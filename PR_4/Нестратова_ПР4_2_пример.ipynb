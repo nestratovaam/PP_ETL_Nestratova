{
 "cells": [
  {
   "cell_type": "markdown",
   "metadata": {},
   "source": [
    "## What is ETL?"
   ]
  },
  {
   "cell_type": "markdown",
   "metadata": {},
   "source": [
    "ETL is actually short form of Extract, Transform and Load, a process in which data is acquired, changed/processes and then finally get loaded into data warehouse/database(s).\n",
    "\n",
    "You can extract data from data sources like Files, Website or some Database, transform the acquired data and then load the final version into database for business usage.\n",
    "\n",
    "You may ask, Why ETL?, well, what ETL does, many of you might already been doing one way or other by writing different functions/scripts to perform tasks but one of the main advantage of ETLs is visualizing your entire data flow pipeline thus help you make decisions according to that."
   ]
  },
  {
   "cell_type": "markdown",
   "metadata": {},
   "source": [
    "Let's start with building our own ETL pipeline. \n",
    "* Extract data from CSV file\n",
    "* Transform/Manipulate Data\n",
    "* Load Data into MongoDB"
   ]
  },
  {
   "cell_type": "code",
   "execution_count": 1,
   "metadata": {},
   "outputs": [],
   "source": [
    "# to read data from csv, python provides csv module\n",
    "import csv"
   ]
  },
  {
   "cell_type": "markdown",
   "metadata": {},
   "source": [
    "To deal with files in Python, we use the open() function, it’s a built-in Python function. This function accepts two different arguments (inputs) in the parentheses, always in the following order: \n",
    "* the name of the file (as a string) \n",
    "* the mode of working with the file (as a string) \n",
    "\n",
    "The syntax to open a file in python is:\n",
    "\n",
    "file_obj = open(“filename”, “mode”)  "
   ]
  },
  {
   "cell_type": "code",
   "execution_count": 2,
   "metadata": {},
   "outputs": [
    {
     "name": "stdout",
     "output_type": "stream",
     "text": [
      "<_csv.reader object at 0x1036ae660>\n"
     ]
    }
   ],
   "source": [
    "f = open(r'crypto_markets.csv')\n",
    "# 'f' is a file handler here\n",
    "\n",
    "csv_reader = csv.reader(f)\n",
    "print(csv_reader)\n"
   ]
  },
  {
   "cell_type": "markdown",
   "metadata": {},
   "source": [
    "Transforming/Changing the data."
   ]
  },
  {
   "cell_type": "code",
   "execution_count": 3,
   "metadata": {},
   "outputs": [
    {
     "name": "stdout",
     "output_type": "stream",
     "text": [
      "6115\n",
      "[['bitcoin', 'BTC', 'Bitcoin', '28.04.2013', '1', 101.47500000000001, 101.98499999999999, 99.07499999999999, 100.6575, '0', '1500520000', '0.5438', '3.88'], ['bitcoin', 'BTC', 'Bitcoin', '29.04.2013', '1', 100.83, 110.6175, 100.5, 108.405, '0', '1491160000', '0.7813', '13.49']]\n"
     ]
    }
   ],
   "source": [
    "assetsCode = ['BTC','ETH','XRP','LTC']\n",
    "\n",
    "# initialize empty list\n",
    "crypto_data = []\n",
    "\n",
    "next(csv_reader, None)  # skips the headers\n",
    "\n",
    "# read csv data row wise\n",
    "for row in csv_reader:\n",
    "    if(row[1] in assetsCode):  # check if current row consist of either 'BTC' or 'ETH' or 'XRP' or 'LTC' currency data\n",
    "        # convert open, high, low, close amount to float type first from str and then convert it into GBP \n",
    "        row[5] = float(row[5]) * 0.75\n",
    "        row[6] = float(row[6]) * 0.75\n",
    "        row[7] = float(row[7])* 0.75\n",
    "        row[8] = float(row[8]) * 0.75\n",
    "        crypto_data.append(row)\n",
    "        \n",
    "# print(csv_reader.line_num)\n",
    "print(len(crypto_data))\n",
    "print(crypto_data[0:2])"
   ]
  },
  {
   "cell_type": "markdown",
   "metadata": {},
   "source": [
    "Loading the data into SQL DB "
   ]
  },
  {
   "cell_type": "code",
   "execution_count": 4,
   "metadata": {},
   "outputs": [],
   "source": [
    "import sqlite3\n",
    "\n",
    "# connect function opens a connection to the SQLite database file, \n",
    "conn = sqlite3.connect('session.db') \n",
    "#Similarly we will make connection with other databases like Oracle, DB2 etc."
   ]
  },
  {
   "cell_type": "code",
   "execution_count": 5,
   "metadata": {},
   "outputs": [],
   "source": [
    "# Drop a table name Crypto id it exists already\n",
    "try:\n",
    "    conn.execute('DROP TABLE IF EXISTS `Crypto` ')\n",
    "except Exception as e:\n",
    "    print(str(e))"
   ]
  },
  {
   "cell_type": "code",
   "execution_count": 6,
   "metadata": {},
   "outputs": [
    {
     "name": "stdout",
     "output_type": "stream",
     "text": [
      "Table created successfully\n"
     ]
    }
   ],
   "source": [
    "# Create a new Table named as Crypto\n",
    "try:\n",
    "    conn.execute('''\n",
    "         CREATE TABLE Crypto\n",
    "         (ID         INTEGER PRIMARY KEY,\n",
    "         NAME        TEXT    NOT NULL,\n",
    "         Date        datetime,\n",
    "         Open        Float DEFAULT 0,\n",
    "         High        Float DEFAULT 0,\n",
    "         Low         Float DEFAULT 0,\n",
    "         Close       Float DEFAULT 0);''')\n",
    "    print (\"Table created successfully\");\n",
    "except Exception as e:\n",
    "    print(str(e))\n",
    "    print('Table Creation Failed!!!!!')\n",
    "finally:\n",
    "    conn.close() # this closes the database connection"
   ]
  },
  {
   "cell_type": "code",
   "execution_count": 7,
   "metadata": {},
   "outputs": [
    {
     "name": "stdout",
     "output_type": "stream",
     "text": [
      "['bitcoin', 'BTC', 'Bitcoin', '28.04.2013', '1', 101.47500000000001, 101.98499999999999, 99.07499999999999, 100.6575, '0', '1500520000', '0.5438', '3.88']\n"
     ]
    }
   ],
   "source": [
    "# Since our crypto data contains more information than required so we need eliminate some of it.\n",
    "print(crypto_data[0])"
   ]
  },
  {
   "cell_type": "code",
   "execution_count": 8,
   "metadata": {},
   "outputs": [
    {
     "data": {
      "text/plain": [
       "[('Bitcoin',\n",
       "  '28.04.2013',\n",
       "  101.47500000000001,\n",
       "  101.98499999999999,\n",
       "  99.07499999999999,\n",
       "  100.6575),\n",
       " ('Bitcoin', '29.04.2013', 100.83, 110.6175, 100.5, 108.405)]"
      ]
     },
     "execution_count": 8,
     "metadata": {},
     "output_type": "execute_result"
    }
   ],
   "source": [
    "# Some more transformations\n",
    "crypto_sql_data = [(row[2], row[3], row[5], row[6], row[7], row[8]) for row in crypto_data]\n",
    "crypto_sql_data[:2]"
   ]
  },
  {
   "cell_type": "code",
   "execution_count": 9,
   "metadata": {},
   "outputs": [
    {
     "name": "stdout",
     "output_type": "stream",
     "text": [
      "Data Inserted Successfully\n"
     ]
    }
   ],
   "source": [
    "# lets make new connection to Insert crypto data in SQL DB\n",
    "conn = sqlite3.connect('session.db')\n",
    "cur = conn.cursor()\n",
    "try:\n",
    "    cur.executemany(\"INSERT INTO Crypto(NAME, Date, Open, High, Low, Close) VALUES (?,?,?,?,?,?)\", crypto_sql_data)\n",
    "    conn.commit()\n",
    "    print('Data Inserted Successfully')\n",
    "except Exception as e:\n",
    "    print(str(e))\n",
    "    print('Data Insertion Failed')\n",
    "finally:\n",
    "    conn.close()"
   ]
  },
  {
   "cell_type": "code",
   "execution_count": 10,
   "metadata": {
    "scrolled": false
   },
   "outputs": [
    {
     "name": "stdout",
     "output_type": "stream",
     "text": [
      "(1, 'Bitcoin', '28.04.2013', 101.47500000000001, 101.98499999999999, 99.07499999999999, 100.6575)\n",
      "(2, 'Bitcoin', '29.04.2013', 100.83, 110.6175, 100.5, 108.405)\n",
      "(3, 'Bitcoin', '30.04.2013', 108.0, 110.1975, 100.53750000000001, 104.25)\n",
      "(4, 'Bitcoin', '01.05.2013', 104.25, 104.91749999999999, 80.78999999999999, 87.74249999999999)\n",
      "(5, 'Bitcoin', '02.05.2013', 87.285, 94.19999999999999, 69.21000000000001, 78.9075)\n",
      "(6, 'Bitcoin', '03.05.2013', 79.6875, 81.0975, 59.324999999999996, 73.3125)\n",
      "(7, 'Bitcoin', '04.05.2013', 73.57499999999999, 86.25, 69.375, 84.375)\n",
      "(8, 'Bitcoin', '05.05.2013', 84.67500000000001, 89.1, 80.355, 86.9325)\n",
      "(9, 'Bitcoin', '06.05.2013', 86.985, 93.495, 79.98, 84.225)\n",
      "(10, 'Bitcoin', '07.05.2013', 84.1875, 85.08, 73.275, 83.625)\n",
      "(11, 'Bitcoin', '08.05.2013', 82.19999999999999, 86.83500000000001, 82.19999999999999, 85.1775)\n",
      "(12, 'Bitcoin', '09.05.2013', 84.9, 85.095, 81.94500000000001, 84.5025)\n",
      "(13, 'Bitcoin', '10.05.2013', 84.6, 91.5, 83.6625, 87.9)\n",
      "(14, 'Bitcoin', '11.05.2013', 88.275, 89.01, 84.75750000000001, 86.42999999999999)\n",
      "(15, 'Bitcoin', '12.05.2013', 86.73, 88.0875, 85.08, 86.25)\n",
      "Total rows: 6115\n"
     ]
    }
   ],
   "source": [
    "# Let's Read data from DB to verify it\n",
    "conn = sqlite3.connect('session.db')\n",
    "rows = conn.cursor().execute('SELECT * FROM Crypto').fetchall()\n",
    "#for row in rows:\n",
    "    #print(row)\n",
    "count = 0\n",
    "for i, row in enumerate(rows):\n",
    "    if i < 15:\n",
    "        print(row)\n",
    "    count += 1\n",
    "\n",
    "print(f\"Total rows: {count}\")"
   ]
  },
  {
   "cell_type": "markdown",
   "metadata": {},
   "source": [
    "Write data in a csv file"
   ]
  },
  {
   "cell_type": "code",
   "execution_count": 11,
   "metadata": {},
   "outputs": [],
   "source": [
    "csvfile = open('Crypto.csv', 'w') \n",
    "csv_writer = csv.writer(csvfile, lineterminator='\\r')\n",
    "# Now we can write data to files using two methods:\n",
    "# writerow() or writerows() \n",
    "# writerow() is used when we need to write one-dimension data such as a single list :[1, ‘Jerry’, 95] \n",
    "# writerows() is used when we need to write multi-dimension data such as list of list [[1, ‘Jerry’, 95], [2, ‘Tom’, 80], [3, ‘Scooby’, 90]]  \n",
    "# So the only difference is that writerows() lets you pass multiple values! \n",
    "csv_writer.writerow(['Name', 'Date', 'Open', 'High', 'Low', 'Close'])\n",
    "csv_writer.writerows(crypto_sql_data)\n",
    "csvfile.close()"
   ]
  }
 ],
 "metadata": {
  "kernelspec": {
   "display_name": "Python 3",
   "language": "python",
   "name": "python3"
  },
  "language_info": {
   "codemirror_mode": {
    "name": "ipython",
    "version": 3
   },
   "file_extension": ".py",
   "mimetype": "text/x-python",
   "name": "python",
   "nbconvert_exporter": "python",
   "pygments_lexer": "ipython3",
   "version": "3.9.6"
  }
 },
 "nbformat": 4,
 "nbformat_minor": 2
}
