{
 "cells": [
  {
   "cell_type": "markdown",
   "metadata": {
    "id": "G6xUMstcIudh"
   },
   "source": [
    "# Практическая работа 1. Источники данных. Извлечение данных\n",
    "\n"
   ]
  },
  {
   "cell_type": "markdown",
   "metadata": {
    "id": "_2zMItYSgrbH"
   },
   "source": [
    "ФИО:  Овсепян Милена Виталиевна\n",
    "\n",
    "Группа: АДЭУ-201"
   ]
  },
  {
   "cell_type": "markdown",
   "metadata": {
    "id": "gYQNmI_PKWOP"
   },
   "source": [
    "Используем данные из открытого источника для `CSV`, `Parquet` и `API`, а также вручную подготовим данные для баз данных и HTML  из открытых данных (доступно по адресу https://data.cityofnewyork.us)."
   ]
  },
  {
   "cell_type": "code",
   "execution_count": 2,
   "metadata": {
    "id": "nT98csOGMCHT"
   },
   "outputs": [],
   "source": [
    "# import modules\n",
    "import certifi\n",
    "import json\n",
    "import pandas as pd\n",
    "import numpy as np\n",
    "import matplotlib.pyplot as plt\n",
    "import sqlite3\n",
    "import urllib3\n",
    "from urllib3 import request\n",
    "from unicodedata import normalize\n"
   ]
  },
  {
   "cell_type": "markdown",
   "metadata": {
    "id": "Bqnf9yljK8lZ"
   },
   "source": [
    "1.1 Файлы данных `CSV` и `Excel`"
   ]
  },
  {
   "cell_type": "markdown",
   "metadata": {
    "id": "gELKRi7_LbcR"
   },
   "source": [
    "Файлы данных могут быть получены откуда угодно: от файлов, хранящихся локально на вашем устройстве, до файловых систем облачного хранилища.\n",
    "\n",
    "Даже при работе в основном с базами данных или внешними `API` использование физических файлов — отличный способ легко использовать данные с метками времени, что может пригодиться при любых временных проблемах с подключением."
   ]
  },
  {
   "cell_type": "code",
   "execution_count": 3,
   "metadata": {
    "id": "VcorFH1UIxRv"
   },
   "outputs": [],
   "source": [
    "# Загрузите данные с портала открытых данных Правительства Москвы —\n",
    "# данные о Wi-Fi в кинотеатрах, введя в браузер следующий URL-адрес: https://data.mos.ru/opendata/60789?isDynamic=false.\n",
    "# Будет загружен CSV-файл *.csv. Сохраните этот файл.\n",
    "# прочитать данные CSV, используя команду Pandas pd.read_csv() в качестве df DataFrame, затем выберите первые пять строк DataFrame с помощью df.head()."
   ]
  },
  {
   "cell_type": "markdown",
   "metadata": {
    "id": "ea8l3d-XMYvH"
   },
   "source": [
    "**Задание 1.1.** Зайти на сайт URL-адрес: https://data.mos.ru/opendata/60789?isDynamic=false\n",
    "\n",
    "**Задание 1.2.** Загрузить данные о `Wi-Fi в кинотеатрах` в Colab."
   ]
  },
  {
   "cell_type": "markdown",
   "metadata": {
    "id": "iECFXabrMkih"
   },
   "source": [
    "**Задание 1.3.** Считайте данные из файла CSV. Использовать метод `pandas read_csv` для простоты и скорости."
   ]
  },
  {
   "cell_type": "code",
   "execution_count": null,
   "metadata": {
    "id": "BlGgzX6-MORB"
   },
   "outputs": [
    {
     "data": {
      "text/html": [
       "<div>\n",
       "<style scoped>\n",
       "    .dataframe tbody tr th:only-of-type {\n",
       "        vertical-align: middle;\n",
       "    }\n",
       "\n",
       "    .dataframe tbody tr th {\n",
       "        vertical-align: top;\n",
       "    }\n",
       "\n",
       "    .dataframe thead th {\n",
       "        text-align: right;\n",
       "    }\n",
       "</style>\n",
       "<table border=\"1\" class=\"dataframe\">\n",
       "  <thead>\n",
       "    <tr style=\"text-align: right;\">\n",
       "      <th></th>\n",
       "      <th>global_id</th>\n",
       "      <th>ID</th>\n",
       "      <th>CinemaName</th>\n",
       "      <th>AdmArea</th>\n",
       "      <th>District</th>\n",
       "      <th>Address</th>\n",
       "      <th>NumberOfAccessPoints</th>\n",
       "      <th>WiFiName</th>\n",
       "      <th>CoverageArea</th>\n",
       "      <th>FunctionFlag</th>\n",
       "      <th>AccessFlag</th>\n",
       "      <th>Password</th>\n",
       "      <th>Latitude_WGS84</th>\n",
       "      <th>Longitude_WGS84</th>\n",
       "      <th>geoData</th>\n",
       "      <th>geodata_center</th>\n",
       "      <th>Unnamed: 16</th>\n",
       "    </tr>\n",
       "  </thead>\n",
       "  <tbody>\n",
       "    <tr>\n",
       "      <th>0</th>\n",
       "      <td>global_id</td>\n",
       "      <td>Код</td>\n",
       "      <td>Наименование кинотеатра</td>\n",
       "      <td>Административный округ</td>\n",
       "      <td>Район</td>\n",
       "      <td>Адрес</td>\n",
       "      <td>Количество точек доступа</td>\n",
       "      <td>Имя Wi-Fi сети</td>\n",
       "      <td>Зона покрытия, в метрах</td>\n",
       "      <td>Признак функционирования</td>\n",
       "      <td>Условия доступа</td>\n",
       "      <td>Пароль</td>\n",
       "      <td>Широта в WGS-84</td>\n",
       "      <td>Долгота в WGS-84</td>\n",
       "      <td>geoData</td>\n",
       "      <td>geodata_center</td>\n",
       "      <td>NaN</td>\n",
       "    </tr>\n",
       "    <tr>\n",
       "      <th>1</th>\n",
       "      <td>879791944</td>\n",
       "      <td>1</td>\n",
       "      <td>Государственное бюджетное учреждение культуры ...</td>\n",
       "      <td>Северо-Восточный административный округ</td>\n",
       "      <td>Останкинский район</td>\n",
       "      <td>Российская Федерация, город Москва, внутригоро...</td>\n",
       "      <td>7</td>\n",
       "      <td>Moscow_WiFi_Free</td>\n",
       "      <td>50</td>\n",
       "      <td>действует</td>\n",
       "      <td>открытая сеть</td>\n",
       "      <td>NaN</td>\n",
       "      <td>55.818675</td>\n",
       "      <td>37.636778</td>\n",
       "      <td>{coordinates=[37.636778, 55.818675], type=Point}</td>\n",
       "      <td>NaN</td>\n",
       "      <td>NaN</td>\n",
       "    </tr>\n",
       "    <tr>\n",
       "      <th>2</th>\n",
       "      <td>879791951</td>\n",
       "      <td>3</td>\n",
       "      <td>Государственное бюджетное учреждение культуры ...</td>\n",
       "      <td>Юго-Восточный административный округ</td>\n",
       "      <td>район Печатники</td>\n",
       "      <td>город Москва, улица Кухмистерова, дом 4</td>\n",
       "      <td>8</td>\n",
       "      <td>Moscow_WiFi_Free</td>\n",
       "      <td>50</td>\n",
       "      <td>действует</td>\n",
       "      <td>открытая сеть</td>\n",
       "      <td>NaN</td>\n",
       "      <td>55.685873</td>\n",
       "      <td>37.718534</td>\n",
       "      <td>{coordinates=[37.718534, 55.685873], type=Point}</td>\n",
       "      <td>NaN</td>\n",
       "      <td>NaN</td>\n",
       "    </tr>\n",
       "    <tr>\n",
       "      <th>3</th>\n",
       "      <td>879791953</td>\n",
       "      <td>4</td>\n",
       "      <td>Государственное бюджетное учреждение культуры ...</td>\n",
       "      <td>Юго-Восточный административный округ</td>\n",
       "      <td>район Текстильщики</td>\n",
       "      <td>Российская Федерация, город Москва, внутригоро...</td>\n",
       "      <td>6</td>\n",
       "      <td>Moscow_WiFi_Free</td>\n",
       "      <td>50</td>\n",
       "      <td>действует</td>\n",
       "      <td>открытая сеть</td>\n",
       "      <td>NaN</td>\n",
       "      <td>55.710864</td>\n",
       "      <td>37.731299</td>\n",
       "      <td>{coordinates=[37.731299, 55.710864], type=Point}</td>\n",
       "      <td>NaN</td>\n",
       "      <td>NaN</td>\n",
       "    </tr>\n",
       "    <tr>\n",
       "      <th>4</th>\n",
       "      <td>879791961</td>\n",
       "      <td>7</td>\n",
       "      <td>Государственное бюджетное учреждение культуры ...</td>\n",
       "      <td>Северный административный округ</td>\n",
       "      <td>Тимирязевский район</td>\n",
       "      <td>Российская Федерация, город Москва, внутригоро...</td>\n",
       "      <td>3</td>\n",
       "      <td>Moscow_WiFi_Free</td>\n",
       "      <td>50</td>\n",
       "      <td>действует</td>\n",
       "      <td>открытая сеть</td>\n",
       "      <td>NaN</td>\n",
       "      <td>55.814406</td>\n",
       "      <td>37.571210</td>\n",
       "      <td>{coordinates=[37.57121, 55.814406], type=Point}</td>\n",
       "      <td>NaN</td>\n",
       "      <td>NaN</td>\n",
       "    </tr>\n",
       "  </tbody>\n",
       "</table>\n",
       "</div>"
      ],
      "text/plain": [
       "   global_id   ID                                         CinemaName   \n",
       "0  global_id  Код                            Наименование кинотеатра  \\\n",
       "1  879791944    1  Государственное бюджетное учреждение культуры ...   \n",
       "2  879791951    3  Государственное бюджетное учреждение культуры ...   \n",
       "3  879791953    4  Государственное бюджетное учреждение культуры ...   \n",
       "4  879791961    7  Государственное бюджетное учреждение культуры ...   \n",
       "\n",
       "                                   AdmArea             District   \n",
       "0                   Административный округ                Район  \\\n",
       "1  Северо-Восточный административный округ   Останкинский район   \n",
       "2     Юго-Восточный административный округ      район Печатники   \n",
       "3     Юго-Восточный административный округ   район Текстильщики   \n",
       "4          Северный административный округ  Тимирязевский район   \n",
       "\n",
       "                                             Address   \n",
       "0                                              Адрес  \\\n",
       "1  Российская Федерация, город Москва, внутригоро...   \n",
       "2            город Москва, улица Кухмистерова, дом 4   \n",
       "3  Российская Федерация, город Москва, внутригоро...   \n",
       "4  Российская Федерация, город Москва, внутригоро...   \n",
       "\n",
       "       NumberOfAccessPoints          WiFiName             CoverageArea   \n",
       "0  Количество точек доступа    Имя Wi-Fi сети  Зона покрытия, в метрах  \\\n",
       "1                         7  Moscow_WiFi_Free                       50   \n",
       "2                         8  Moscow_WiFi_Free                       50   \n",
       "3                         6  Moscow_WiFi_Free                       50   \n",
       "4                         3  Moscow_WiFi_Free                       50   \n",
       "\n",
       "               FunctionFlag       AccessFlag Password   Latitude_WGS84   \n",
       "0  Признак функционирования  Условия доступа   Пароль  Широта в WGS-84  \\\n",
       "1                 действует    открытая сеть      NaN        55.818675   \n",
       "2                 действует    открытая сеть      NaN        55.685873   \n",
       "3                 действует    открытая сеть      NaN        55.710864   \n",
       "4                 действует    открытая сеть      NaN        55.814406   \n",
       "\n",
       "    Longitude_WGS84                                           geoData   \n",
       "0  Долгота в WGS-84                                           geoData  \\\n",
       "1         37.636778  {coordinates=[37.636778, 55.818675], type=Point}   \n",
       "2         37.718534  {coordinates=[37.718534, 55.685873], type=Point}   \n",
       "3         37.731299  {coordinates=[37.731299, 55.710864], type=Point}   \n",
       "4         37.571210   {coordinates=[37.57121, 55.814406], type=Point}   \n",
       "\n",
       "   geodata_center  Unnamed: 16  \n",
       "0  geodata_center          NaN  \n",
       "1             NaN          NaN  \n",
       "2             NaN          NaN  \n",
       "3             NaN          NaN  \n",
       "4             NaN          NaN  "
      ]
     },
     "execution_count": 14,
     "metadata": {},
     "output_type": "execute_result"
    }
   ],
   "source": [
    "df_csv = pd.read_csv(\"data-60789-2024-01-24.csv\", delimiter=';')\n",
    "df_csv.head()"
   ]
  },
  {
   "cell_type": "markdown",
   "metadata": {
    "id": "5WdAK8nhSas0"
   },
   "source": [
    "**Задание 1.4.** Так как первая строка включает определение столбцов, удалить строку с `index=0`."
   ]
  },
  {
   "cell_type": "code",
   "execution_count": null,
   "metadata": {
    "id": "lUqpf79kSN_p"
   },
   "outputs": [],
   "source": [
    "data = df_csv.drop(df_csv.index[0])"
   ]
  },
  {
   "cell_type": "code",
   "execution_count": null,
   "metadata": {
    "id": "xYi52qTBST3k"
   },
   "outputs": [
    {
     "data": {
      "text/html": [
       "<div>\n",
       "<style scoped>\n",
       "    .dataframe tbody tr th:only-of-type {\n",
       "        vertical-align: middle;\n",
       "    }\n",
       "\n",
       "    .dataframe tbody tr th {\n",
       "        vertical-align: top;\n",
       "    }\n",
       "\n",
       "    .dataframe thead th {\n",
       "        text-align: right;\n",
       "    }\n",
       "</style>\n",
       "<table border=\"1\" class=\"dataframe\">\n",
       "  <thead>\n",
       "    <tr style=\"text-align: right;\">\n",
       "      <th></th>\n",
       "      <th>global_id</th>\n",
       "      <th>ID</th>\n",
       "      <th>CinemaName</th>\n",
       "      <th>AdmArea</th>\n",
       "      <th>District</th>\n",
       "      <th>Address</th>\n",
       "      <th>NumberOfAccessPoints</th>\n",
       "      <th>WiFiName</th>\n",
       "      <th>CoverageArea</th>\n",
       "      <th>FunctionFlag</th>\n",
       "      <th>AccessFlag</th>\n",
       "      <th>Password</th>\n",
       "      <th>Latitude_WGS84</th>\n",
       "      <th>Longitude_WGS84</th>\n",
       "      <th>geoData</th>\n",
       "      <th>geodata_center</th>\n",
       "      <th>Unnamed: 16</th>\n",
       "    </tr>\n",
       "  </thead>\n",
       "  <tbody>\n",
       "    <tr>\n",
       "      <th>1</th>\n",
       "      <td>879791944</td>\n",
       "      <td>1</td>\n",
       "      <td>Государственное бюджетное учреждение культуры ...</td>\n",
       "      <td>Северо-Восточный административный округ</td>\n",
       "      <td>Останкинский район</td>\n",
       "      <td>Российская Федерация, город Москва, внутригоро...</td>\n",
       "      <td>7</td>\n",
       "      <td>Moscow_WiFi_Free</td>\n",
       "      <td>50</td>\n",
       "      <td>действует</td>\n",
       "      <td>открытая сеть</td>\n",
       "      <td>NaN</td>\n",
       "      <td>55.818675</td>\n",
       "      <td>37.636778</td>\n",
       "      <td>{coordinates=[37.636778, 55.818675], type=Point}</td>\n",
       "      <td>NaN</td>\n",
       "      <td>NaN</td>\n",
       "    </tr>\n",
       "    <tr>\n",
       "      <th>2</th>\n",
       "      <td>879791951</td>\n",
       "      <td>3</td>\n",
       "      <td>Государственное бюджетное учреждение культуры ...</td>\n",
       "      <td>Юго-Восточный административный округ</td>\n",
       "      <td>район Печатники</td>\n",
       "      <td>город Москва, улица Кухмистерова, дом 4</td>\n",
       "      <td>8</td>\n",
       "      <td>Moscow_WiFi_Free</td>\n",
       "      <td>50</td>\n",
       "      <td>действует</td>\n",
       "      <td>открытая сеть</td>\n",
       "      <td>NaN</td>\n",
       "      <td>55.685873</td>\n",
       "      <td>37.718534</td>\n",
       "      <td>{coordinates=[37.718534, 55.685873], type=Point}</td>\n",
       "      <td>NaN</td>\n",
       "      <td>NaN</td>\n",
       "    </tr>\n",
       "    <tr>\n",
       "      <th>3</th>\n",
       "      <td>879791953</td>\n",
       "      <td>4</td>\n",
       "      <td>Государственное бюджетное учреждение культуры ...</td>\n",
       "      <td>Юго-Восточный административный округ</td>\n",
       "      <td>район Текстильщики</td>\n",
       "      <td>Российская Федерация, город Москва, внутригоро...</td>\n",
       "      <td>6</td>\n",
       "      <td>Moscow_WiFi_Free</td>\n",
       "      <td>50</td>\n",
       "      <td>действует</td>\n",
       "      <td>открытая сеть</td>\n",
       "      <td>NaN</td>\n",
       "      <td>55.710864</td>\n",
       "      <td>37.731299</td>\n",
       "      <td>{coordinates=[37.731299, 55.710864], type=Point}</td>\n",
       "      <td>NaN</td>\n",
       "      <td>NaN</td>\n",
       "    </tr>\n",
       "    <tr>\n",
       "      <th>4</th>\n",
       "      <td>879791961</td>\n",
       "      <td>7</td>\n",
       "      <td>Государственное бюджетное учреждение культуры ...</td>\n",
       "      <td>Северный административный округ</td>\n",
       "      <td>Тимирязевский район</td>\n",
       "      <td>Российская Федерация, город Москва, внутригоро...</td>\n",
       "      <td>3</td>\n",
       "      <td>Moscow_WiFi_Free</td>\n",
       "      <td>50</td>\n",
       "      <td>действует</td>\n",
       "      <td>открытая сеть</td>\n",
       "      <td>NaN</td>\n",
       "      <td>55.814406</td>\n",
       "      <td>37.571210</td>\n",
       "      <td>{coordinates=[37.57121, 55.814406], type=Point}</td>\n",
       "      <td>NaN</td>\n",
       "      <td>NaN</td>\n",
       "    </tr>\n",
       "    <tr>\n",
       "      <th>5</th>\n",
       "      <td>879791967</td>\n",
       "      <td>9</td>\n",
       "      <td>Государственное бюджетное учреждение культуры ...</td>\n",
       "      <td>Северо-Восточный административный округ</td>\n",
       "      <td>район Свиблово</td>\n",
       "      <td>Российская Федерация, город Москва, внутригоро...</td>\n",
       "      <td>5</td>\n",
       "      <td>Moscow_WiFi_Free</td>\n",
       "      <td>50</td>\n",
       "      <td>действует</td>\n",
       "      <td>открытая сеть</td>\n",
       "      <td>NaN</td>\n",
       "      <td>55.851945</td>\n",
       "      <td>37.647549</td>\n",
       "      <td>{coordinates=[37.647549, 55.851945], type=Point}</td>\n",
       "      <td>NaN</td>\n",
       "      <td>NaN</td>\n",
       "    </tr>\n",
       "    <tr>\n",
       "      <th>6</th>\n",
       "      <td>879795206</td>\n",
       "      <td>2</td>\n",
       "      <td>Государственное бюджетное учреждение культуры ...</td>\n",
       "      <td>Северо-Восточный административный округ</td>\n",
       "      <td>Бабушкинский район</td>\n",
       "      <td>Российская Федерация, город Москва, внутригоро...</td>\n",
       "      <td>5</td>\n",
       "      <td>Moscow_WiFi_Free</td>\n",
       "      <td>50</td>\n",
       "      <td>действует</td>\n",
       "      <td>открытая сеть</td>\n",
       "      <td>NaN</td>\n",
       "      <td>55.861974</td>\n",
       "      <td>37.676825</td>\n",
       "      <td>{coordinates=[37.676825, 55.861974], type=Point}</td>\n",
       "      <td>NaN</td>\n",
       "      <td>NaN</td>\n",
       "    </tr>\n",
       "    <tr>\n",
       "      <th>7</th>\n",
       "      <td>879795207</td>\n",
       "      <td>5</td>\n",
       "      <td>Государственное бюджетное учреждение культуры ...</td>\n",
       "      <td>Юго-Восточный административный округ</td>\n",
       "      <td>район Лефортово</td>\n",
       "      <td>Российская Федерация, город Москва, внутригоро...</td>\n",
       "      <td>4</td>\n",
       "      <td>Moscow_WiFi_Free</td>\n",
       "      <td>50</td>\n",
       "      <td>действует</td>\n",
       "      <td>открытая сеть</td>\n",
       "      <td>NaN</td>\n",
       "      <td>55.764303</td>\n",
       "      <td>37.705508</td>\n",
       "      <td>{coordinates=[37.705508, 55.764303], type=Point}</td>\n",
       "      <td>NaN</td>\n",
       "      <td>NaN</td>\n",
       "    </tr>\n",
       "    <tr>\n",
       "      <th>8</th>\n",
       "      <td>879795208</td>\n",
       "      <td>6</td>\n",
       "      <td>Государственное бюджетное учреждение культуры ...</td>\n",
       "      <td>Юго-Западный административный округ</td>\n",
       "      <td>Академический район</td>\n",
       "      <td>Российская Федерация, город Москва, внутригоро...</td>\n",
       "      <td>3</td>\n",
       "      <td>Moscow_WiFi_Free</td>\n",
       "      <td>50</td>\n",
       "      <td>действует</td>\n",
       "      <td>открытая сеть</td>\n",
       "      <td>NaN</td>\n",
       "      <td>55.682787</td>\n",
       "      <td>37.571585</td>\n",
       "      <td>{coordinates=[37.571585, 55.682787], type=Point}</td>\n",
       "      <td>NaN</td>\n",
       "      <td>NaN</td>\n",
       "    </tr>\n",
       "    <tr>\n",
       "      <th>9</th>\n",
       "      <td>879795209</td>\n",
       "      <td>8</td>\n",
       "      <td>Государственное бюджетное учреждение культуры ...</td>\n",
       "      <td>Восточный административный округ</td>\n",
       "      <td>район Новогиреево</td>\n",
       "      <td>Российская Федерация, город Москва, внутригоро...</td>\n",
       "      <td>6</td>\n",
       "      <td>Moscow_WiFi_Free</td>\n",
       "      <td>50</td>\n",
       "      <td>действует</td>\n",
       "      <td>открытая сеть</td>\n",
       "      <td>NaN</td>\n",
       "      <td>55.749841</td>\n",
       "      <td>37.802562</td>\n",
       "      <td>{coordinates=[37.802562, 55.749841], type=Point}</td>\n",
       "      <td>NaN</td>\n",
       "      <td>NaN</td>\n",
       "    </tr>\n",
       "    <tr>\n",
       "      <th>10</th>\n",
       "      <td>879795211</td>\n",
       "      <td>10</td>\n",
       "      <td>Государственное бюджетное учреждение культуры ...</td>\n",
       "      <td>Юго-Западный административный округ</td>\n",
       "      <td>Обручевский район</td>\n",
       "      <td>Российская Федерация, город Москва, внутригоро...</td>\n",
       "      <td>5</td>\n",
       "      <td>Moscow_WiFi_Free</td>\n",
       "      <td>50</td>\n",
       "      <td>действует</td>\n",
       "      <td>открытая сеть</td>\n",
       "      <td>NaN</td>\n",
       "      <td>55.665309</td>\n",
       "      <td>37.513395</td>\n",
       "      <td>{coordinates=[37.513395, 55.665309], type=Point}</td>\n",
       "      <td>NaN</td>\n",
       "      <td>NaN</td>\n",
       "    </tr>\n",
       "    <tr>\n",
       "      <th>11</th>\n",
       "      <td>879795212</td>\n",
       "      <td>11</td>\n",
       "      <td>Государственное бюджетное учреждение культуры ...</td>\n",
       "      <td>Юго-Восточный административный округ</td>\n",
       "      <td>район Лефортово</td>\n",
       "      <td>Российская Федерация, город Москва, внутригоро...</td>\n",
       "      <td>3</td>\n",
       "      <td>Moscow_WiFi_Free</td>\n",
       "      <td>50</td>\n",
       "      <td>действует</td>\n",
       "      <td>открытая сеть</td>\n",
       "      <td>NaN</td>\n",
       "      <td>55.751817</td>\n",
       "      <td>37.716144</td>\n",
       "      <td>{coordinates=[37.716144, 55.751817], type=Point}</td>\n",
       "      <td>NaN</td>\n",
       "      <td>NaN</td>\n",
       "    </tr>\n",
       "  </tbody>\n",
       "</table>\n",
       "</div>"
      ],
      "text/plain": [
       "    global_id  ID                                         CinemaName   \n",
       "1   879791944   1  Государственное бюджетное учреждение культуры ...  \\\n",
       "2   879791951   3  Государственное бюджетное учреждение культуры ...   \n",
       "3   879791953   4  Государственное бюджетное учреждение культуры ...   \n",
       "4   879791961   7  Государственное бюджетное учреждение культуры ...   \n",
       "5   879791967   9  Государственное бюджетное учреждение культуры ...   \n",
       "6   879795206   2  Государственное бюджетное учреждение культуры ...   \n",
       "7   879795207   5  Государственное бюджетное учреждение культуры ...   \n",
       "8   879795208   6  Государственное бюджетное учреждение культуры ...   \n",
       "9   879795209   8  Государственное бюджетное учреждение культуры ...   \n",
       "10  879795211  10  Государственное бюджетное учреждение культуры ...   \n",
       "11  879795212  11  Государственное бюджетное учреждение культуры ...   \n",
       "\n",
       "                                    AdmArea             District   \n",
       "1   Северо-Восточный административный округ   Останкинский район  \\\n",
       "2      Юго-Восточный административный округ      район Печатники   \n",
       "3      Юго-Восточный административный округ   район Текстильщики   \n",
       "4           Северный административный округ  Тимирязевский район   \n",
       "5   Северо-Восточный административный округ       район Свиблово   \n",
       "6   Северо-Восточный административный округ   Бабушкинский район   \n",
       "7      Юго-Восточный административный округ      район Лефортово   \n",
       "8       Юго-Западный административный округ  Академический район   \n",
       "9          Восточный административный округ    район Новогиреево   \n",
       "10      Юго-Западный административный округ    Обручевский район   \n",
       "11     Юго-Восточный административный округ      район Лефортово   \n",
       "\n",
       "                                              Address NumberOfAccessPoints   \n",
       "1   Российская Федерация, город Москва, внутригоро...                    7  \\\n",
       "2             город Москва, улица Кухмистерова, дом 4                    8   \n",
       "3   Российская Федерация, город Москва, внутригоро...                    6   \n",
       "4   Российская Федерация, город Москва, внутригоро...                    3   \n",
       "5   Российская Федерация, город Москва, внутригоро...                    5   \n",
       "6   Российская Федерация, город Москва, внутригоро...                    5   \n",
       "7   Российская Федерация, город Москва, внутригоро...                    4   \n",
       "8   Российская Федерация, город Москва, внутригоро...                    3   \n",
       "9   Российская Федерация, город Москва, внутригоро...                    6   \n",
       "10  Российская Федерация, город Москва, внутригоро...                    5   \n",
       "11  Российская Федерация, город Москва, внутригоро...                    3   \n",
       "\n",
       "            WiFiName CoverageArea FunctionFlag     AccessFlag Password   \n",
       "1   Moscow_WiFi_Free           50    действует  открытая сеть      NaN  \\\n",
       "2   Moscow_WiFi_Free           50    действует  открытая сеть      NaN   \n",
       "3   Moscow_WiFi_Free           50    действует  открытая сеть      NaN   \n",
       "4   Moscow_WiFi_Free           50    действует  открытая сеть      NaN   \n",
       "5   Moscow_WiFi_Free           50    действует  открытая сеть      NaN   \n",
       "6   Moscow_WiFi_Free           50    действует  открытая сеть      NaN   \n",
       "7   Moscow_WiFi_Free           50    действует  открытая сеть      NaN   \n",
       "8   Moscow_WiFi_Free           50    действует  открытая сеть      NaN   \n",
       "9   Moscow_WiFi_Free           50    действует  открытая сеть      NaN   \n",
       "10  Moscow_WiFi_Free           50    действует  открытая сеть      NaN   \n",
       "11  Moscow_WiFi_Free           50    действует  открытая сеть      NaN   \n",
       "\n",
       "   Latitude_WGS84 Longitude_WGS84   \n",
       "1       55.818675       37.636778  \\\n",
       "2       55.685873       37.718534   \n",
       "3       55.710864       37.731299   \n",
       "4       55.814406       37.571210   \n",
       "5       55.851945       37.647549   \n",
       "6       55.861974       37.676825   \n",
       "7       55.764303       37.705508   \n",
       "8       55.682787       37.571585   \n",
       "9       55.749841       37.802562   \n",
       "10      55.665309       37.513395   \n",
       "11      55.751817       37.716144   \n",
       "\n",
       "                                             geoData geodata_center   \n",
       "1   {coordinates=[37.636778, 55.818675], type=Point}            NaN  \\\n",
       "2   {coordinates=[37.718534, 55.685873], type=Point}            NaN   \n",
       "3   {coordinates=[37.731299, 55.710864], type=Point}            NaN   \n",
       "4    {coordinates=[37.57121, 55.814406], type=Point}            NaN   \n",
       "5   {coordinates=[37.647549, 55.851945], type=Point}            NaN   \n",
       "6   {coordinates=[37.676825, 55.861974], type=Point}            NaN   \n",
       "7   {coordinates=[37.705508, 55.764303], type=Point}            NaN   \n",
       "8   {coordinates=[37.571585, 55.682787], type=Point}            NaN   \n",
       "9   {coordinates=[37.802562, 55.749841], type=Point}            NaN   \n",
       "10  {coordinates=[37.513395, 55.665309], type=Point}            NaN   \n",
       "11  {coordinates=[37.716144, 55.751817], type=Point}            NaN   \n",
       "\n",
       "    Unnamed: 16  \n",
       "1           NaN  \n",
       "2           NaN  \n",
       "3           NaN  \n",
       "4           NaN  \n",
       "5           NaN  \n",
       "6           NaN  \n",
       "7           NaN  \n",
       "8           NaN  \n",
       "9           NaN  \n",
       "10          NaN  \n",
       "11          NaN  "
      ]
     },
     "execution_count": 17,
     "metadata": {},
     "output_type": "execute_result"
    }
   ],
   "source": [
    "data"
   ]
  },
  {
   "cell_type": "markdown",
   "metadata": {
    "id": "5fyK9BVFe2cX"
   },
   "source": [
    "# **Задание 1.5.** Выполнить парсинг веб-страницы с помощью `JSON`"
   ]
  },
  {
   "cell_type": "code",
   "execution_count": null,
   "metadata": {
    "id": "mZX5Wy5nS4I8"
   },
   "outputs": [],
   "source": [
    "# Импорт стандартных пакетов\n",
    "import pandas as pd\n",
    "\n",
    "# Для парсинга веб-страниц\n",
    "import requests as reqs\n",
    "import urllib.request\n",
    "from bs4 import BeautifulSoup\n",
    "import json\n",
    "import os\n",
    "import pprint\n",
    "\n",
    "# Для выполнения операций с регулярными выражениями\n",
    "import re"
   ]
  },
  {
   "cell_type": "code",
   "execution_count": null,
   "metadata": {
    "collapsed": true,
    "id": "4PjIZEI8bYdJ"
   },
   "outputs": [
    {
     "name": "stdout",
     "output_type": "stream",
     "text": [
      "{'features': [{'geometry': {'coordinates': [37.636778, 55.818675], 'type': 'Point'}, 'properties': {'datasetId': 60789, 'attributes': {'is_deleted': 0, 'ID': 1, 'CinemaName': 'Государственное бюджетное учреждение культуры города Москвы «Московское кино» Кинотеатр «Москино Космос»', 'AdmArea': 'Северо-Восточный административный округ', 'District': 'Останкинский район', 'Address': 'Российская Федерация, город Москва, внутригородская территория муниципальный округ Останкинский, проспект Мира, дом 109', 'NumberOfAccessPoints': 7, 'WiFiName': 'Moscow_WiFi_Free', 'CoverageArea': 50, 'FunctionFlag': 'действует', 'AccessFlag': 'открытая сеть', 'Password': '', 'Latitude_WGS84': '55.818675', 'Longitude_WGS84': '37.636778', 'global_id': 879791944}, 'rowId': None, 'versionNumber': 1, 'releaseNumber': 32}, 'type': 'Feature'}, {'geometry': {'coordinates': [37.718534, 55.685873], 'type': 'Point'}, 'properties': {'datasetId': 60789, 'attributes': {'is_deleted': 0, 'ID': 3, 'CinemaName': 'Государственное бюджетное учреждение культуры города Москвы «Московское кино» Кинотеатр «Москино Тула»', 'AdmArea': 'Юго-Восточный административный округ', 'District': 'район Печатники', 'Address': 'город Москва, улица Кухмистерова, дом 4', 'NumberOfAccessPoints': 8, 'WiFiName': 'Moscow_WiFi_Free', 'CoverageArea': 50, 'FunctionFlag': 'действует', 'AccessFlag': 'открытая сеть', 'Password': '', 'Latitude_WGS84': '55.685873', 'Longitude_WGS84': '37.718534', 'global_id': 879791951}, 'rowId': None, 'versionNumber': 1, 'releaseNumber': 32}, 'type': 'Feature'}, {'geometry': {'coordinates': [37.731299, 55.710864], 'type': 'Point'}, 'properties': {'datasetId': 60789, 'attributes': {'is_deleted': 0, 'ID': 4, 'CinemaName': 'Государственное бюджетное учреждение культуры города Москвы «Московское кино» Кинотеатр «Москино Молодежный»', 'AdmArea': 'Юго-Восточный административный округ', 'District': 'район Текстильщики', 'Address': 'Российская Федерация, город Москва, внутригородская территория муниципальный округ Текстильщики, Люблинская улица, дом 11', 'NumberOfAccessPoints': 6, 'WiFiName': 'Moscow_WiFi_Free', 'CoverageArea': 50, 'FunctionFlag': 'действует', 'AccessFlag': 'открытая сеть', 'Password': '', 'Latitude_WGS84': '55.710864', 'Longitude_WGS84': '37.731299', 'global_id': 879791953}, 'rowId': None, 'versionNumber': 1, 'releaseNumber': 32}, 'type': 'Feature'}, {'geometry': {'coordinates': [37.57121, 55.814406], 'type': 'Point'}, 'properties': {'datasetId': 60789, 'attributes': {'is_deleted': 0, 'ID': 7, 'CinemaName': 'Государственное бюджетное учреждение культуры города Москвы «Московское кино» Кинотеатр «Москино Искра»', 'AdmArea': 'Северный административный округ', 'District': 'Тимирязевский район', 'Address': 'Российская Федерация, город Москва, внутригородская территория муниципальный округ Тимирязевский, улица Костякова, дом 10', 'NumberOfAccessPoints': 3, 'WiFiName': 'Moscow_WiFi_Free', 'CoverageArea': 50, 'FunctionFlag': 'действует', 'AccessFlag': 'открытая сеть', 'Password': '', 'Latitude_WGS84': '55.814406', 'Longitude_WGS84': '37.571210', 'global_id': 879791961}, 'rowId': None, 'versionNumber': 1, 'releaseNumber': 32}, 'type': 'Feature'}, {'geometry': {'coordinates': [37.647549, 55.851945], 'type': 'Point'}, 'properties': {'datasetId': 60789, 'attributes': {'is_deleted': 0, 'ID': 9, 'CinemaName': 'Государственное бюджетное учреждение культуры города Москвы «Московское кино» Кинотеатр «Москино Сатурн»', 'AdmArea': 'Северо-Восточный административный округ', 'District': 'район Свиблово', 'Address': 'Российская Федерация, город Москва, внутригородская территория муниципальный округ Свиблово, Снежная улица, дом 18', 'NumberOfAccessPoints': 5, 'WiFiName': 'Moscow_WiFi_Free', 'CoverageArea': 50, 'FunctionFlag': 'действует', 'AccessFlag': 'открытая сеть', 'Password': '', 'Latitude_WGS84': '55.851945', 'Longitude_WGS84': '37.647549', 'global_id': 879791967}, 'rowId': None, 'versionNumber': 1, 'releaseNumber': 32}, 'type': 'Feature'}, {'geometry': {'coordinates': [37.676825, 55.861974], 'type': 'Point'}, 'properties': {'datasetId': 60789, 'attributes': {'is_deleted': 0, 'ID': 2, 'CinemaName': 'Государственное бюджетное учреждение культуры города Москвы «Московское кино» Кинотеатр «Москино Вымпел»', 'AdmArea': 'Северо-Восточный административный округ', 'District': 'Бабушкинский район', 'Address': 'Российская Федерация, город Москва, внутригородская территория муниципальный округ Бабушкинский, улица Коминтерна, дом 8', 'NumberOfAccessPoints': 5, 'WiFiName': 'Moscow_WiFi_Free', 'CoverageArea': 50, 'FunctionFlag': 'действует', 'AccessFlag': 'открытая сеть', 'Password': '', 'Latitude_WGS84': '55.861974', 'Longitude_WGS84': '37.676825', 'global_id': 879795206}, 'rowId': None, 'versionNumber': 1, 'releaseNumber': 32}, 'type': 'Feature'}, {'geometry': {'coordinates': [37.705508, 55.764303], 'type': 'Point'}, 'properties': {'datasetId': 60789, 'attributes': {'is_deleted': 0, 'ID': 5, 'CinemaName': 'Государственное бюджетное учреждение культуры города Москвы «Московское кино» Кинотеатр «Москино Спутник»', 'AdmArea': 'Юго-Восточный административный округ', 'District': 'район Лефортово', 'Address': 'Российская Федерация, город Москва, внутригородская территория муниципальный округ Лефортово, Солдатская улица, дом 15', 'NumberOfAccessPoints': 4, 'WiFiName': 'Moscow_WiFi_Free', 'CoverageArea': 50, 'FunctionFlag': 'действует', 'AccessFlag': 'открытая сеть', 'Password': '', 'Latitude_WGS84': '55.764303', 'Longitude_WGS84': '37.705508', 'global_id': 879795207}, 'rowId': None, 'versionNumber': 1, 'releaseNumber': 32}, 'type': 'Feature'}, {'geometry': {'coordinates': [37.571585, 55.682787], 'type': 'Point'}, 'properties': {'datasetId': 60789, 'attributes': {'is_deleted': 0, 'ID': 6, 'CinemaName': 'Государственное бюджетное учреждение культуры города Москвы «Московское кино» Кинотеатр «Москино Салют»', 'AdmArea': 'Юго-Западный административный округ', 'District': 'Академический район', 'Address': 'Российская Федерация, город Москва, внутригородская территория муниципальный округ Академический, улица Кедрова, дом 14, корпус 1', 'NumberOfAccessPoints': 3, 'WiFiName': 'Moscow_WiFi_Free', 'CoverageArea': 50, 'FunctionFlag': 'действует', 'AccessFlag': 'открытая сеть', 'Password': '', 'Latitude_WGS84': '55.682787', 'Longitude_WGS84': '37.571585', 'global_id': 879795208}, 'rowId': None, 'versionNumber': 1, 'releaseNumber': 32}, 'type': 'Feature'}, {'geometry': {'coordinates': [37.802562, 55.749841], 'type': 'Point'}, 'properties': {'datasetId': 60789, 'attributes': {'is_deleted': 0, 'ID': 8, 'CinemaName': 'Государственное бюджетное учреждение культуры города Москвы «Московское кино» Кинотеатр «Москино Березка»', 'AdmArea': 'Восточный административный округ', 'District': 'район Новогиреево', 'Address': 'Российская Федерация, город Москва, внутригородская территория муниципальный округ Новогиреево, Мартеновская улица, дом 25', 'NumberOfAccessPoints': 6, 'WiFiName': 'Moscow_WiFi_Free', 'CoverageArea': 50, 'FunctionFlag': 'действует', 'AccessFlag': 'открытая сеть', 'Password': '', 'Latitude_WGS84': '55.749841', 'Longitude_WGS84': '37.802562', 'global_id': 879795209}, 'rowId': None, 'versionNumber': 1, 'releaseNumber': 32}, 'type': 'Feature'}, {'geometry': {'coordinates': [37.513395, 55.665309], 'type': 'Point'}, 'properties': {'datasetId': 60789, 'attributes': {'is_deleted': 0, 'ID': 10, 'CinemaName': 'Государственное бюджетное учреждение культуры города Москвы «Киноконцертный зал «Эльдар»', 'AdmArea': 'Юго-Западный административный округ', 'District': 'Обручевский район', 'Address': 'Российская Федерация, город Москва, внутригородская территория муниципальный округ Обручевский, Ленинский проспект, дом 105', 'NumberOfAccessPoints': 5, 'WiFiName': 'Moscow_WiFi_Free', 'CoverageArea': 50, 'FunctionFlag': 'действует', 'AccessFlag': 'открытая сеть', 'Password': '', 'Latitude_WGS84': '55.665309', 'Longitude_WGS84': '37.513395', 'global_id': 879795211}, 'rowId': None, 'versionNumber': 1, 'releaseNumber': 32}, 'type': 'Feature'}, {'geometry': {'coordinates': [37.716144, 55.751817], 'type': 'Point'}, 'properties': {'datasetId': 60789, 'attributes': {'is_deleted': 0, 'ID': 11, 'CinemaName': 'Государственное бюджетное учреждение культуры города Москвы «Московское кино» Кинотеатр «Москино Факел»', 'AdmArea': 'Юго-Восточный административный округ', 'District': 'район Лефортово', 'Address': 'Российская Федерация, город Москва, внутригородская территория муниципальный округ Лефортово, шоссе Энтузиастов, дом 15/16', 'NumberOfAccessPoints': 3, 'WiFiName': 'Moscow_WiFi_Free', 'CoverageArea': 50, 'FunctionFlag': 'действует', 'AccessFlag': 'открытая сеть', 'Password': '', 'Latitude_WGS84': '55.751817', 'Longitude_WGS84': '37.716144', 'global_id': 879795212}, 'rowId': None, 'versionNumber': 1, 'releaseNumber': 32}, 'type': 'Feature'}], 'type': 'FeatureCollection'}\n"
     ]
    }
   ],
   "source": [
    "resp = reqs.request(method='GET', url='https://apidata.mos.ru/v1/datasets/60789/features?api_key=efb65918-60a2-4370-97b3-6f3b4798aa44')\n",
    "json_page = resp.json()\n",
    "print(json_page)"
   ]
  },
  {
   "cell_type": "markdown",
   "metadata": {
    "id": "2GDW-0qBdWuH"
   },
   "source": [
    "## <font color='blue'>Парсинг веб-страниц с помощью JSON</font>\n",
    "\n",
    "### <font color=\"green\"> Что такое JSON?</font>\n",
    "\n",
    "* JSON (нотация объектов JavaScript) — популярный формат данных, используемый для представления структурированных данных.\n",
    "* Это текстовый формат, который не зависит от языка и может использоваться в Python, Perl и других языках.\n",
    "* Формат JSON используется для передачи данных между серверами и веб-приложениями.\n",
    "* Он построен на двух структурах:\n",
    "\n",
    "      - Коллекция пар имя/значение. Это реализуется как объект, запись, словарь, хеш-таблица, список ключей или ассоциативный массив.\n",
    "      - Упорядоченный список значений. Это реализуется как массив, вектор, список или последовательность.\n",
    "     \n",
    "     \n",
    "Основные функции `JSON`:\n",
    "\n",
    "* `dump()`: запись закодированной строки в файл.\n",
    "* `load()`: декодирование во время чтения файла JSON.\n",
    "* `dumps()`: кодирование в объекты JSON.\n",
    "* `loads()`: декодирует строку JSON."
   ]
  },
  {
   "cell_type": "markdown",
   "metadata": {
    "id": "BHqsnzQOdy4U"
   },
   "source": [
    "### <font color=\"green\"> Сериализация и десериализация</font>\n",
    "\n",
    "> … процесс перевода структур данных или состояния объекта в формат, который можно сохранить… или передать… и позже восстановить (возможно, в другой компьютерной среде). (Википедия)\n",
    "\n",
    "* **Сериализация** — это процесс преобразования объектов или структур данных в потоки байтов или строки.\n",
    "* Эти потоки байтов затем можно легко сохранить или передать.\n",
    "* Это позволяет разработчикам сохранять, например, данные конфигурации или прогресс пользователя, а затем сохранять их (на диске или в базе данных) или отправлять в другое место.\n",
    "* Обратный процесс сериализации известен как **десериализация**.\n",
    "\n",
    "### Зачем нужна сериализация?\n",
    "\n",
    "Нам нужна сериализация по следующим причинам:\n",
    "\n",
    "- **Связь**: Сериализация включает в себя процедуру сериализации и передачи объекта. Это позволяет нескольким компьютерным системам одновременно проектировать, совместно использовать и выполнять объекты.\n",
    "- **Кэширование**: время, затрачиваемое на создание объекта, больше времени, необходимого для его десериализации. Сериализация минимизирует затраты времени за счет кэширования гигантских объектов.\n",
    "- **Глубокое копирование**: процесс клонирования упрощается благодаря сериализации. Точная копия объекта получается путем сериализации объекта в массив байтов и последующей его десериализации.\n",
    "- **Переносимость**. Основное преимущество сериализации заключается в том, что она работает в разных архитектурах и операционных системах.\n",
    "- **Постоянство**: состояние любого объекта можно сохранить напрямую, применив к нему сериализацию, и сохранить в базе данных, чтобы его можно было получить позже."
   ]
  },
  {
   "cell_type": "markdown",
   "metadata": {
    "id": "IlsZXjzYeAUb"
   },
   "source": [
    "**Сериализация**\n",
    "\n",
    "Мы используем функцию dump(), которая принимает два аргумента:\n",
    "* Объект данных, подлежащий сериализации.\n",
    "* Объект файла, в который он будет записан (байтовый формат)."
   ]
  },
  {
   "cell_type": "code",
   "execution_count": null,
   "metadata": {
    "id": "EfnEZkVieLkf"
   },
   "outputs": [],
   "source": [
    "file_name = \"Sample.json\"\n",
    "with open(file_name, \"w\") as fid:\n",
    "     json.dump(json_page, fid)"
   ]
  },
  {
   "cell_type": "code",
   "execution_count": null,
   "metadata": {
    "id": "LD4O-1TGeMYX"
   },
   "outputs": [
    {
     "name": "stderr",
     "output_type": "stream",
     "text": [
      "\"cat\" ­Ґ пў«пҐвбп ў­гваҐ­­Ґ© Ё«Ё ў­Ґи­Ґ©\n",
      "Є®¬ ­¤®©, ЁбЇ®«­пҐ¬®© Їа®Ја ¬¬®© Ё«Ё Ї ЄҐв­л¬ д ©«®¬.\n"
     ]
    }
   ],
   "source": [
    "!cat Sample.json"
   ]
  },
  {
   "cell_type": "markdown",
   "metadata": {
    "id": "BLcl-4_BfQsN"
   },
   "source": [
    "**Десериализация JSON**\n",
    "\n",
    "* Десериализация противоположна сериализации, т. е. преобразованию объекта JSON в соответствующие объекты Python.\n",
    "* Мы используем функцию load(), которая обычно используется для загрузки из строки, в противном случае корневой объект находится в списке или диктовке."
   ]
  },
  {
   "cell_type": "code",
   "execution_count": null,
   "metadata": {
    "id": "Lzwg5oRTfTeZ"
   },
   "outputs": [
    {
     "name": "stdout",
     "output_type": "stream",
     "text": [
      "{'features': [{'geometry': {'coordinates': [37.636778, 55.818675], 'type': 'Point'}, 'properties': {'datasetId': 60789, 'attributes': {'is_deleted': 0, 'ID': 1, 'CinemaName': 'Государственное бюджетное учреждение культуры города Москвы «Московское кино» Кинотеатр «Москино Космос»', 'AdmArea': 'Северо-Восточный административный округ', 'District': 'Останкинский район', 'Address': 'Российская Федерация, город Москва, внутригородская территория муниципальный округ Останкинский, проспект Мира, дом 109', 'NumberOfAccessPoints': 7, 'WiFiName': 'Moscow_WiFi_Free', 'CoverageArea': 50, 'FunctionFlag': 'действует', 'AccessFlag': 'открытая сеть', 'Password': '', 'Latitude_WGS84': '55.818675', 'Longitude_WGS84': '37.636778', 'global_id': 879791944}, 'rowId': None, 'versionNumber': 1, 'releaseNumber': 32}, 'type': 'Feature'}, {'geometry': {'coordinates': [37.718534, 55.685873], 'type': 'Point'}, 'properties': {'datasetId': 60789, 'attributes': {'is_deleted': 0, 'ID': 3, 'CinemaName': 'Государственное бюджетное учреждение культуры города Москвы «Московское кино» Кинотеатр «Москино Тула»', 'AdmArea': 'Юго-Восточный административный округ', 'District': 'район Печатники', 'Address': 'город Москва, улица Кухмистерова, дом 4', 'NumberOfAccessPoints': 8, 'WiFiName': 'Moscow_WiFi_Free', 'CoverageArea': 50, 'FunctionFlag': 'действует', 'AccessFlag': 'открытая сеть', 'Password': '', 'Latitude_WGS84': '55.685873', 'Longitude_WGS84': '37.718534', 'global_id': 879791951}, 'rowId': None, 'versionNumber': 1, 'releaseNumber': 32}, 'type': 'Feature'}, {'geometry': {'coordinates': [37.731299, 55.710864], 'type': 'Point'}, 'properties': {'datasetId': 60789, 'attributes': {'is_deleted': 0, 'ID': 4, 'CinemaName': 'Государственное бюджетное учреждение культуры города Москвы «Московское кино» Кинотеатр «Москино Молодежный»', 'AdmArea': 'Юго-Восточный административный округ', 'District': 'район Текстильщики', 'Address': 'Российская Федерация, город Москва, внутригородская территория муниципальный округ Текстильщики, Люблинская улица, дом 11', 'NumberOfAccessPoints': 6, 'WiFiName': 'Moscow_WiFi_Free', 'CoverageArea': 50, 'FunctionFlag': 'действует', 'AccessFlag': 'открытая сеть', 'Password': '', 'Latitude_WGS84': '55.710864', 'Longitude_WGS84': '37.731299', 'global_id': 879791953}, 'rowId': None, 'versionNumber': 1, 'releaseNumber': 32}, 'type': 'Feature'}, {'geometry': {'coordinates': [37.57121, 55.814406], 'type': 'Point'}, 'properties': {'datasetId': 60789, 'attributes': {'is_deleted': 0, 'ID': 7, 'CinemaName': 'Государственное бюджетное учреждение культуры города Москвы «Московское кино» Кинотеатр «Москино Искра»', 'AdmArea': 'Северный административный округ', 'District': 'Тимирязевский район', 'Address': 'Российская Федерация, город Москва, внутригородская территория муниципальный округ Тимирязевский, улица Костякова, дом 10', 'NumberOfAccessPoints': 3, 'WiFiName': 'Moscow_WiFi_Free', 'CoverageArea': 50, 'FunctionFlag': 'действует', 'AccessFlag': 'открытая сеть', 'Password': '', 'Latitude_WGS84': '55.814406', 'Longitude_WGS84': '37.571210', 'global_id': 879791961}, 'rowId': None, 'versionNumber': 1, 'releaseNumber': 32}, 'type': 'Feature'}, {'geometry': {'coordinates': [37.647549, 55.851945], 'type': 'Point'}, 'properties': {'datasetId': 60789, 'attributes': {'is_deleted': 0, 'ID': 9, 'CinemaName': 'Государственное бюджетное учреждение культуры города Москвы «Московское кино» Кинотеатр «Москино Сатурн»', 'AdmArea': 'Северо-Восточный административный округ', 'District': 'район Свиблово', 'Address': 'Российская Федерация, город Москва, внутригородская территория муниципальный округ Свиблово, Снежная улица, дом 18', 'NumberOfAccessPoints': 5, 'WiFiName': 'Moscow_WiFi_Free', 'CoverageArea': 50, 'FunctionFlag': 'действует', 'AccessFlag': 'открытая сеть', 'Password': '', 'Latitude_WGS84': '55.851945', 'Longitude_WGS84': '37.647549', 'global_id': 879791967}, 'rowId': None, 'versionNumber': 1, 'releaseNumber': 32}, 'type': 'Feature'}, {'geometry': {'coordinates': [37.676825, 55.861974], 'type': 'Point'}, 'properties': {'datasetId': 60789, 'attributes': {'is_deleted': 0, 'ID': 2, 'CinemaName': 'Государственное бюджетное учреждение культуры города Москвы «Московское кино» Кинотеатр «Москино Вымпел»', 'AdmArea': 'Северо-Восточный административный округ', 'District': 'Бабушкинский район', 'Address': 'Российская Федерация, город Москва, внутригородская территория муниципальный округ Бабушкинский, улица Коминтерна, дом 8', 'NumberOfAccessPoints': 5, 'WiFiName': 'Moscow_WiFi_Free', 'CoverageArea': 50, 'FunctionFlag': 'действует', 'AccessFlag': 'открытая сеть', 'Password': '', 'Latitude_WGS84': '55.861974', 'Longitude_WGS84': '37.676825', 'global_id': 879795206}, 'rowId': None, 'versionNumber': 1, 'releaseNumber': 32}, 'type': 'Feature'}, {'geometry': {'coordinates': [37.705508, 55.764303], 'type': 'Point'}, 'properties': {'datasetId': 60789, 'attributes': {'is_deleted': 0, 'ID': 5, 'CinemaName': 'Государственное бюджетное учреждение культуры города Москвы «Московское кино» Кинотеатр «Москино Спутник»', 'AdmArea': 'Юго-Восточный административный округ', 'District': 'район Лефортово', 'Address': 'Российская Федерация, город Москва, внутригородская территория муниципальный округ Лефортово, Солдатская улица, дом 15', 'NumberOfAccessPoints': 4, 'WiFiName': 'Moscow_WiFi_Free', 'CoverageArea': 50, 'FunctionFlag': 'действует', 'AccessFlag': 'открытая сеть', 'Password': '', 'Latitude_WGS84': '55.764303', 'Longitude_WGS84': '37.705508', 'global_id': 879795207}, 'rowId': None, 'versionNumber': 1, 'releaseNumber': 32}, 'type': 'Feature'}, {'geometry': {'coordinates': [37.571585, 55.682787], 'type': 'Point'}, 'properties': {'datasetId': 60789, 'attributes': {'is_deleted': 0, 'ID': 6, 'CinemaName': 'Государственное бюджетное учреждение культуры города Москвы «Московское кино» Кинотеатр «Москино Салют»', 'AdmArea': 'Юго-Западный административный округ', 'District': 'Академический район', 'Address': 'Российская Федерация, город Москва, внутригородская территория муниципальный округ Академический, улица Кедрова, дом 14, корпус 1', 'NumberOfAccessPoints': 3, 'WiFiName': 'Moscow_WiFi_Free', 'CoverageArea': 50, 'FunctionFlag': 'действует', 'AccessFlag': 'открытая сеть', 'Password': '', 'Latitude_WGS84': '55.682787', 'Longitude_WGS84': '37.571585', 'global_id': 879795208}, 'rowId': None, 'versionNumber': 1, 'releaseNumber': 32}, 'type': 'Feature'}, {'geometry': {'coordinates': [37.802562, 55.749841], 'type': 'Point'}, 'properties': {'datasetId': 60789, 'attributes': {'is_deleted': 0, 'ID': 8, 'CinemaName': 'Государственное бюджетное учреждение культуры города Москвы «Московское кино» Кинотеатр «Москино Березка»', 'AdmArea': 'Восточный административный округ', 'District': 'район Новогиреево', 'Address': 'Российская Федерация, город Москва, внутригородская территория муниципальный округ Новогиреево, Мартеновская улица, дом 25', 'NumberOfAccessPoints': 6, 'WiFiName': 'Moscow_WiFi_Free', 'CoverageArea': 50, 'FunctionFlag': 'действует', 'AccessFlag': 'открытая сеть', 'Password': '', 'Latitude_WGS84': '55.749841', 'Longitude_WGS84': '37.802562', 'global_id': 879795209}, 'rowId': None, 'versionNumber': 1, 'releaseNumber': 32}, 'type': 'Feature'}, {'geometry': {'coordinates': [37.513395, 55.665309], 'type': 'Point'}, 'properties': {'datasetId': 60789, 'attributes': {'is_deleted': 0, 'ID': 10, 'CinemaName': 'Государственное бюджетное учреждение культуры города Москвы «Киноконцертный зал «Эльдар»', 'AdmArea': 'Юго-Западный административный округ', 'District': 'Обручевский район', 'Address': 'Российская Федерация, город Москва, внутригородская территория муниципальный округ Обручевский, Ленинский проспект, дом 105', 'NumberOfAccessPoints': 5, 'WiFiName': 'Moscow_WiFi_Free', 'CoverageArea': 50, 'FunctionFlag': 'действует', 'AccessFlag': 'открытая сеть', 'Password': '', 'Latitude_WGS84': '55.665309', 'Longitude_WGS84': '37.513395', 'global_id': 879795211}, 'rowId': None, 'versionNumber': 1, 'releaseNumber': 32}, 'type': 'Feature'}, {'geometry': {'coordinates': [37.716144, 55.751817], 'type': 'Point'}, 'properties': {'datasetId': 60789, 'attributes': {'is_deleted': 0, 'ID': 11, 'CinemaName': 'Государственное бюджетное учреждение культуры города Москвы «Московское кино» Кинотеатр «Москино Факел»', 'AdmArea': 'Юго-Восточный административный округ', 'District': 'район Лефортово', 'Address': 'Российская Федерация, город Москва, внутригородская территория муниципальный округ Лефортово, шоссе Энтузиастов, дом 15/16', 'NumberOfAccessPoints': 3, 'WiFiName': 'Moscow_WiFi_Free', 'CoverageArea': 50, 'FunctionFlag': 'действует', 'AccessFlag': 'открытая сеть', 'Password': '', 'Latitude_WGS84': '55.751817', 'Longitude_WGS84': '37.716144', 'global_id': 879795212}, 'rowId': None, 'versionNumber': 1, 'releaseNumber': 32}, 'type': 'Feature'}], 'type': 'FeatureCollection'}\n"
     ]
    }
   ],
   "source": [
    "with open(file_name, \"r\") as fid:\n",
    "     json_obj = json.load(fid)\n",
    "\n",
    "print(json_obj)"
   ]
  },
  {
   "cell_type": "code",
   "execution_count": null,
   "metadata": {
    "id": "9JciveNvfUIA"
   },
   "outputs": [
    {
     "name": "stdout",
     "output_type": "stream",
     "text": [
      "    features: [{'geometry': {'coordinates': [37.636778, 55.818675], 'type': 'Point'}, 'properties': {'datasetId': 60789, 'attributes': {'is_deleted': 0, 'ID': 1, 'CinemaName': 'Государственное бюджетное учреждение культуры города Москвы «Московское кино» Кинотеатр «Москино Космос»', 'AdmArea': 'Северо-Восточный административный округ', 'District': 'Останкинский район', 'Address': 'Российская Федерация, город Москва, внутригородская территория муниципальный округ Останкинский, проспект Мира, дом 109', 'NumberOfAccessPoints': 7, 'WiFiName': 'Moscow_WiFi_Free', 'CoverageArea': 50, 'FunctionFlag': 'действует', 'AccessFlag': 'открытая сеть', 'Password': '', 'Latitude_WGS84': '55.818675', 'Longitude_WGS84': '37.636778', 'global_id': 879791944}, 'rowId': None, 'versionNumber': 1, 'releaseNumber': 32}, 'type': 'Feature'}, {'geometry': {'coordinates': [37.718534, 55.685873], 'type': 'Point'}, 'properties': {'datasetId': 60789, 'attributes': {'is_deleted': 0, 'ID': 3, 'CinemaName': 'Государственное бюджетное учреждение культуры города Москвы «Московское кино» Кинотеатр «Москино Тула»', 'AdmArea': 'Юго-Восточный административный округ', 'District': 'район Печатники', 'Address': 'город Москва, улица Кухмистерова, дом 4', 'NumberOfAccessPoints': 8, 'WiFiName': 'Moscow_WiFi_Free', 'CoverageArea': 50, 'FunctionFlag': 'действует', 'AccessFlag': 'открытая сеть', 'Password': '', 'Latitude_WGS84': '55.685873', 'Longitude_WGS84': '37.718534', 'global_id': 879791951}, 'rowId': None, 'versionNumber': 1, 'releaseNumber': 32}, 'type': 'Feature'}, {'geometry': {'coordinates': [37.731299, 55.710864], 'type': 'Point'}, 'properties': {'datasetId': 60789, 'attributes': {'is_deleted': 0, 'ID': 4, 'CinemaName': 'Государственное бюджетное учреждение культуры города Москвы «Московское кино» Кинотеатр «Москино Молодежный»', 'AdmArea': 'Юго-Восточный административный округ', 'District': 'район Текстильщики', 'Address': 'Российская Федерация, город Москва, внутригородская территория муниципальный округ Текстильщики, Люблинская улица, дом 11', 'NumberOfAccessPoints': 6, 'WiFiName': 'Moscow_WiFi_Free', 'CoverageArea': 50, 'FunctionFlag': 'действует', 'AccessFlag': 'открытая сеть', 'Password': '', 'Latitude_WGS84': '55.710864', 'Longitude_WGS84': '37.731299', 'global_id': 879791953}, 'rowId': None, 'versionNumber': 1, 'releaseNumber': 32}, 'type': 'Feature'}, {'geometry': {'coordinates': [37.57121, 55.814406], 'type': 'Point'}, 'properties': {'datasetId': 60789, 'attributes': {'is_deleted': 0, 'ID': 7, 'CinemaName': 'Государственное бюджетное учреждение культуры города Москвы «Московское кино» Кинотеатр «Москино Искра»', 'AdmArea': 'Северный административный округ', 'District': 'Тимирязевский район', 'Address': 'Российская Федерация, город Москва, внутригородская территория муниципальный округ Тимирязевский, улица Костякова, дом 10', 'NumberOfAccessPoints': 3, 'WiFiName': 'Moscow_WiFi_Free', 'CoverageArea': 50, 'FunctionFlag': 'действует', 'AccessFlag': 'открытая сеть', 'Password': '', 'Latitude_WGS84': '55.814406', 'Longitude_WGS84': '37.571210', 'global_id': 879791961}, 'rowId': None, 'versionNumber': 1, 'releaseNumber': 32}, 'type': 'Feature'}, {'geometry': {'coordinates': [37.647549, 55.851945], 'type': 'Point'}, 'properties': {'datasetId': 60789, 'attributes': {'is_deleted': 0, 'ID': 9, 'CinemaName': 'Государственное бюджетное учреждение культуры города Москвы «Московское кино» Кинотеатр «Москино Сатурн»', 'AdmArea': 'Северо-Восточный административный округ', 'District': 'район Свиблово', 'Address': 'Российская Федерация, город Москва, внутригородская территория муниципальный округ Свиблово, Снежная улица, дом 18', 'NumberOfAccessPoints': 5, 'WiFiName': 'Moscow_WiFi_Free', 'CoverageArea': 50, 'FunctionFlag': 'действует', 'AccessFlag': 'открытая сеть', 'Password': '', 'Latitude_WGS84': '55.851945', 'Longitude_WGS84': '37.647549', 'global_id': 879791967}, 'rowId': None, 'versionNumber': 1, 'releaseNumber': 32}, 'type': 'Feature'}, {'geometry': {'coordinates': [37.676825, 55.861974], 'type': 'Point'}, 'properties': {'datasetId': 60789, 'attributes': {'is_deleted': 0, 'ID': 2, 'CinemaName': 'Государственное бюджетное учреждение культуры города Москвы «Московское кино» Кинотеатр «Москино Вымпел»', 'AdmArea': 'Северо-Восточный административный округ', 'District': 'Бабушкинский район', 'Address': 'Российская Федерация, город Москва, внутригородская территория муниципальный округ Бабушкинский, улица Коминтерна, дом 8', 'NumberOfAccessPoints': 5, 'WiFiName': 'Moscow_WiFi_Free', 'CoverageArea': 50, 'FunctionFlag': 'действует', 'AccessFlag': 'открытая сеть', 'Password': '', 'Latitude_WGS84': '55.861974', 'Longitude_WGS84': '37.676825', 'global_id': 879795206}, 'rowId': None, 'versionNumber': 1, 'releaseNumber': 32}, 'type': 'Feature'}, {'geometry': {'coordinates': [37.705508, 55.764303], 'type': 'Point'}, 'properties': {'datasetId': 60789, 'attributes': {'is_deleted': 0, 'ID': 5, 'CinemaName': 'Государственное бюджетное учреждение культуры города Москвы «Московское кино» Кинотеатр «Москино Спутник»', 'AdmArea': 'Юго-Восточный административный округ', 'District': 'район Лефортово', 'Address': 'Российская Федерация, город Москва, внутригородская территория муниципальный округ Лефортово, Солдатская улица, дом 15', 'NumberOfAccessPoints': 4, 'WiFiName': 'Moscow_WiFi_Free', 'CoverageArea': 50, 'FunctionFlag': 'действует', 'AccessFlag': 'открытая сеть', 'Password': '', 'Latitude_WGS84': '55.764303', 'Longitude_WGS84': '37.705508', 'global_id': 879795207}, 'rowId': None, 'versionNumber': 1, 'releaseNumber': 32}, 'type': 'Feature'}, {'geometry': {'coordinates': [37.571585, 55.682787], 'type': 'Point'}, 'properties': {'datasetId': 60789, 'attributes': {'is_deleted': 0, 'ID': 6, 'CinemaName': 'Государственное бюджетное учреждение культуры города Москвы «Московское кино» Кинотеатр «Москино Салют»', 'AdmArea': 'Юго-Западный административный округ', 'District': 'Академический район', 'Address': 'Российская Федерация, город Москва, внутригородская территория муниципальный округ Академический, улица Кедрова, дом 14, корпус 1', 'NumberOfAccessPoints': 3, 'WiFiName': 'Moscow_WiFi_Free', 'CoverageArea': 50, 'FunctionFlag': 'действует', 'AccessFlag': 'открытая сеть', 'Password': '', 'Latitude_WGS84': '55.682787', 'Longitude_WGS84': '37.571585', 'global_id': 879795208}, 'rowId': None, 'versionNumber': 1, 'releaseNumber': 32}, 'type': 'Feature'}, {'geometry': {'coordinates': [37.802562, 55.749841], 'type': 'Point'}, 'properties': {'datasetId': 60789, 'attributes': {'is_deleted': 0, 'ID': 8, 'CinemaName': 'Государственное бюджетное учреждение культуры города Москвы «Московское кино» Кинотеатр «Москино Березка»', 'AdmArea': 'Восточный административный округ', 'District': 'район Новогиреево', 'Address': 'Российская Федерация, город Москва, внутригородская территория муниципальный округ Новогиреево, Мартеновская улица, дом 25', 'NumberOfAccessPoints': 6, 'WiFiName': 'Moscow_WiFi_Free', 'CoverageArea': 50, 'FunctionFlag': 'действует', 'AccessFlag': 'открытая сеть', 'Password': '', 'Latitude_WGS84': '55.749841', 'Longitude_WGS84': '37.802562', 'global_id': 879795209}, 'rowId': None, 'versionNumber': 1, 'releaseNumber': 32}, 'type': 'Feature'}, {'geometry': {'coordinates': [37.513395, 55.665309], 'type': 'Point'}, 'properties': {'datasetId': 60789, 'attributes': {'is_deleted': 0, 'ID': 10, 'CinemaName': 'Государственное бюджетное учреждение культуры города Москвы «Киноконцертный зал «Эльдар»', 'AdmArea': 'Юго-Западный административный округ', 'District': 'Обручевский район', 'Address': 'Российская Федерация, город Москва, внутригородская территория муниципальный округ Обручевский, Ленинский проспект, дом 105', 'NumberOfAccessPoints': 5, 'WiFiName': 'Moscow_WiFi_Free', 'CoverageArea': 50, 'FunctionFlag': 'действует', 'AccessFlag': 'открытая сеть', 'Password': '', 'Latitude_WGS84': '55.665309', 'Longitude_WGS84': '37.513395', 'global_id': 879795211}, 'rowId': None, 'versionNumber': 1, 'releaseNumber': 32}, 'type': 'Feature'}, {'geometry': {'coordinates': [37.716144, 55.751817], 'type': 'Point'}, 'properties': {'datasetId': 60789, 'attributes': {'is_deleted': 0, 'ID': 11, 'CinemaName': 'Государственное бюджетное учреждение культуры города Москвы «Московское кино» Кинотеатр «Москино Факел»', 'AdmArea': 'Юго-Восточный административный округ', 'District': 'район Лефортово', 'Address': 'Российская Федерация, город Москва, внутригородская территория муниципальный округ Лефортово, шоссе Энтузиастов, дом 15/16', 'NumberOfAccessPoints': 3, 'WiFiName': 'Moscow_WiFi_Free', 'CoverageArea': 50, 'FunctionFlag': 'действует', 'AccessFlag': 'открытая сеть', 'Password': '', 'Latitude_WGS84': '55.751817', 'Longitude_WGS84': '37.716144', 'global_id': 879795212}, 'rowId': None, 'versionNumber': 1, 'releaseNumber': 32}, 'type': 'Feature'}]\n",
      "        type: FeatureCollection\n"
     ]
    }
   ],
   "source": [
    "for key in json_obj:\n",
    "    print(\"{:>12}: {}\".format(key, json_obj[key]))"
   ]
  },
  {
   "cell_type": "markdown",
   "metadata": {
    "id": "Q4xQKS4ofogK"
   },
   "source": [
    "Обрабатываем данные с помощью `JSON`:"
   ]
  },
  {
   "cell_type": "code",
   "execution_count": null,
   "metadata": {},
   "outputs": [],
   "source": [
    "import requests"
   ]
  },
  {
   "cell_type": "code",
   "execution_count": null,
   "metadata": {},
   "outputs": [],
   "source": [
    "api_url=('https://apidata.mos.ru/v1/datasets/60789/features?api_key=efb65918-60a2-4370-97b3-6f3b4798aa44')"
   ]
  },
  {
   "cell_type": "code",
   "execution_count": null,
   "metadata": {
    "id": "v0hqPgW1f-bz"
   },
   "outputs": [],
   "source": [
    "response = requests.get(api_url)"
   ]
  },
  {
   "cell_type": "code",
   "execution_count": null,
   "metadata": {
    "id": "5hYmQ8e4foDy"
   },
   "outputs": [],
   "source": [
    "if response.status_code == 200:\n",
    "   json_page = json.loads(response.text)"
   ]
  },
  {
   "cell_type": "markdown",
   "metadata": {
    "id": "j5kHmjTQgGuU"
   },
   "source": [
    "**Задание 1.6.** Выполнить парсинг веб-страницы с помощью `JSON`. Получите URL-адрес:"
   ]
  },
  {
   "cell_type": "code",
   "execution_count": null,
   "metadata": {
    "id": "V4MT_7fKgKDE"
   },
   "outputs": [
    {
     "name": "stdout",
     "output_type": "stream",
     "text": [
      "URL: \n",
      "\t https://apidata.mos.ru/v1/datasets/60789/features?api_key=efb65918-60a2-4370-97b3-6f3b4798aa44\n"
     ]
    }
   ],
   "source": [
    "print(f\"URL: \\n\\t {response.url}\")"
   ]
  },
  {
   "cell_type": "markdown",
   "metadata": {
    "id": "ZONlhgElgVhZ"
   },
   "source": [
    "**Задание 1.7.** Выполнить парсинг веб-страницы с помощью `JSON`. Определите тип контента:"
   ]
  },
  {
   "cell_type": "code",
   "execution_count": null,
   "metadata": {
    "id": "rnRYlGxPghJi"
   },
   "outputs": [
    {
     "name": "stdout",
     "output_type": "stream",
     "text": [
      "Content type: \n",
      "\t application/json\n"
     ]
    }
   ],
   "source": [
    "print(f\"Content type: \\n\\t {response.headers['content-type']}\")"
   ]
  },
  {
   "cell_type": "markdown",
   "metadata": {
    "id": "HYz1ZjjchAXq"
   },
   "source": [
    "**Задание 1.8.** Выполнить парсинг веб-страницы с помощью `JSON`. Обработайте данные с помощью JSON:"
   ]
  },
  {
   "cell_type": "code",
   "execution_count": null,
   "metadata": {
    "id": "r8Wpu-u-hHCj"
   },
   "outputs": [],
   "source": [
    "if response.status_code == 200:\n",
    "   json_page = json.loads(response.text)"
   ]
  },
  {
   "cell_type": "markdown",
   "metadata": {
    "id": "DpnBucrBhRCr"
   },
   "source": [
    "**Задание 1.9.**  Обработайте данные с помощью `JSON`. Посмотреть на ключи:"
   ]
  },
  {
   "cell_type": "code",
   "execution_count": null,
   "metadata": {
    "id": "KKs3wyTdhax1"
   },
   "outputs": [
    {
     "name": "stdout",
     "output_type": "stream",
     "text": [
      "features\n",
      "type\n"
     ]
    }
   ],
   "source": [
    "for x in json_page:\n",
    "    print(x)"
   ]
  },
  {
   "cell_type": "markdown",
   "metadata": {
    "id": "oBqriFtThn3H"
   },
   "source": [
    "Распечатать ключи и значения:"
   ]
  },
  {
   "cell_type": "code",
   "execution_count": null,
   "metadata": {
    "id": "peUqDSuQhqIW"
   },
   "outputs": [
    {
     "name": "stdout",
     "output_type": "stream",
     "text": [
      "features --> [{'geometry': {'coordinates': [37.636778, 55.818675], 'type': 'Point'}, 'properties': {'datasetId': 60789, 'attributes': {'is_deleted': 0, 'ID': 1, 'CinemaName': 'Государственное бюджетное учреждение культуры города Москвы «Московское кино» Кинотеатр «Москино Космос»', 'AdmArea': 'Северо-Восточный административный округ', 'District': 'Останкинский район', 'Address': 'Российская Федерация, город Москва, внутригородская территория муниципальный округ Останкинский, проспект Мира, дом 109', 'NumberOfAccessPoints': 7, 'WiFiName': 'Moscow_WiFi_Free', 'CoverageArea': 50, 'FunctionFlag': 'действует', 'AccessFlag': 'открытая сеть', 'Password': '', 'Latitude_WGS84': '55.818675', 'Longitude_WGS84': '37.636778', 'global_id': 879791944}, 'rowId': None, 'versionNumber': 1, 'releaseNumber': 32}, 'type': 'Feature'}, {'geometry': {'coordinates': [37.718534, 55.685873], 'type': 'Point'}, 'properties': {'datasetId': 60789, 'attributes': {'is_deleted': 0, 'ID': 3, 'CinemaName': 'Государственное бюджетное учреждение культуры города Москвы «Московское кино» Кинотеатр «Москино Тула»', 'AdmArea': 'Юго-Восточный административный округ', 'District': 'район Печатники', 'Address': 'город Москва, улица Кухмистерова, дом 4', 'NumberOfAccessPoints': 8, 'WiFiName': 'Moscow_WiFi_Free', 'CoverageArea': 50, 'FunctionFlag': 'действует', 'AccessFlag': 'открытая сеть', 'Password': '', 'Latitude_WGS84': '55.685873', 'Longitude_WGS84': '37.718534', 'global_id': 879791951}, 'rowId': None, 'versionNumber': 1, 'releaseNumber': 32}, 'type': 'Feature'}, {'geometry': {'coordinates': [37.731299, 55.710864], 'type': 'Point'}, 'properties': {'datasetId': 60789, 'attributes': {'is_deleted': 0, 'ID': 4, 'CinemaName': 'Государственное бюджетное учреждение культуры города Москвы «Московское кино» Кинотеатр «Москино Молодежный»', 'AdmArea': 'Юго-Восточный административный округ', 'District': 'район Текстильщики', 'Address': 'Российская Федерация, город Москва, внутригородская территория муниципальный округ Текстильщики, Люблинская улица, дом 11', 'NumberOfAccessPoints': 6, 'WiFiName': 'Moscow_WiFi_Free', 'CoverageArea': 50, 'FunctionFlag': 'действует', 'AccessFlag': 'открытая сеть', 'Password': '', 'Latitude_WGS84': '55.710864', 'Longitude_WGS84': '37.731299', 'global_id': 879791953}, 'rowId': None, 'versionNumber': 1, 'releaseNumber': 32}, 'type': 'Feature'}, {'geometry': {'coordinates': [37.57121, 55.814406], 'type': 'Point'}, 'properties': {'datasetId': 60789, 'attributes': {'is_deleted': 0, 'ID': 7, 'CinemaName': 'Государственное бюджетное учреждение культуры города Москвы «Московское кино» Кинотеатр «Москино Искра»', 'AdmArea': 'Северный административный округ', 'District': 'Тимирязевский район', 'Address': 'Российская Федерация, город Москва, внутригородская территория муниципальный округ Тимирязевский, улица Костякова, дом 10', 'NumberOfAccessPoints': 3, 'WiFiName': 'Moscow_WiFi_Free', 'CoverageArea': 50, 'FunctionFlag': 'действует', 'AccessFlag': 'открытая сеть', 'Password': '', 'Latitude_WGS84': '55.814406', 'Longitude_WGS84': '37.571210', 'global_id': 879791961}, 'rowId': None, 'versionNumber': 1, 'releaseNumber': 32}, 'type': 'Feature'}, {'geometry': {'coordinates': [37.647549, 55.851945], 'type': 'Point'}, 'properties': {'datasetId': 60789, 'attributes': {'is_deleted': 0, 'ID': 9, 'CinemaName': 'Государственное бюджетное учреждение культуры города Москвы «Московское кино» Кинотеатр «Москино Сатурн»', 'AdmArea': 'Северо-Восточный административный округ', 'District': 'район Свиблово', 'Address': 'Российская Федерация, город Москва, внутригородская территория муниципальный округ Свиблово, Снежная улица, дом 18', 'NumberOfAccessPoints': 5, 'WiFiName': 'Moscow_WiFi_Free', 'CoverageArea': 50, 'FunctionFlag': 'действует', 'AccessFlag': 'открытая сеть', 'Password': '', 'Latitude_WGS84': '55.851945', 'Longitude_WGS84': '37.647549', 'global_id': 879791967}, 'rowId': None, 'versionNumber': 1, 'releaseNumber': 32}, 'type': 'Feature'}, {'geometry': {'coordinates': [37.676825, 55.861974], 'type': 'Point'}, 'properties': {'datasetId': 60789, 'attributes': {'is_deleted': 0, 'ID': 2, 'CinemaName': 'Государственное бюджетное учреждение культуры города Москвы «Московское кино» Кинотеатр «Москино Вымпел»', 'AdmArea': 'Северо-Восточный административный округ', 'District': 'Бабушкинский район', 'Address': 'Российская Федерация, город Москва, внутригородская территория муниципальный округ Бабушкинский, улица Коминтерна, дом 8', 'NumberOfAccessPoints': 5, 'WiFiName': 'Moscow_WiFi_Free', 'CoverageArea': 50, 'FunctionFlag': 'действует', 'AccessFlag': 'открытая сеть', 'Password': '', 'Latitude_WGS84': '55.861974', 'Longitude_WGS84': '37.676825', 'global_id': 879795206}, 'rowId': None, 'versionNumber': 1, 'releaseNumber': 32}, 'type': 'Feature'}, {'geometry': {'coordinates': [37.705508, 55.764303], 'type': 'Point'}, 'properties': {'datasetId': 60789, 'attributes': {'is_deleted': 0, 'ID': 5, 'CinemaName': 'Государственное бюджетное учреждение культуры города Москвы «Московское кино» Кинотеатр «Москино Спутник»', 'AdmArea': 'Юго-Восточный административный округ', 'District': 'район Лефортово', 'Address': 'Российская Федерация, город Москва, внутригородская территория муниципальный округ Лефортово, Солдатская улица, дом 15', 'NumberOfAccessPoints': 4, 'WiFiName': 'Moscow_WiFi_Free', 'CoverageArea': 50, 'FunctionFlag': 'действует', 'AccessFlag': 'открытая сеть', 'Password': '', 'Latitude_WGS84': '55.764303', 'Longitude_WGS84': '37.705508', 'global_id': 879795207}, 'rowId': None, 'versionNumber': 1, 'releaseNumber': 32}, 'type': 'Feature'}, {'geometry': {'coordinates': [37.571585, 55.682787], 'type': 'Point'}, 'properties': {'datasetId': 60789, 'attributes': {'is_deleted': 0, 'ID': 6, 'CinemaName': 'Государственное бюджетное учреждение культуры города Москвы «Московское кино» Кинотеатр «Москино Салют»', 'AdmArea': 'Юго-Западный административный округ', 'District': 'Академический район', 'Address': 'Российская Федерация, город Москва, внутригородская территория муниципальный округ Академический, улица Кедрова, дом 14, корпус 1', 'NumberOfAccessPoints': 3, 'WiFiName': 'Moscow_WiFi_Free', 'CoverageArea': 50, 'FunctionFlag': 'действует', 'AccessFlag': 'открытая сеть', 'Password': '', 'Latitude_WGS84': '55.682787', 'Longitude_WGS84': '37.571585', 'global_id': 879795208}, 'rowId': None, 'versionNumber': 1, 'releaseNumber': 32}, 'type': 'Feature'}, {'geometry': {'coordinates': [37.802562, 55.749841], 'type': 'Point'}, 'properties': {'datasetId': 60789, 'attributes': {'is_deleted': 0, 'ID': 8, 'CinemaName': 'Государственное бюджетное учреждение культуры города Москвы «Московское кино» Кинотеатр «Москино Березка»', 'AdmArea': 'Восточный административный округ', 'District': 'район Новогиреево', 'Address': 'Российская Федерация, город Москва, внутригородская территория муниципальный округ Новогиреево, Мартеновская улица, дом 25', 'NumberOfAccessPoints': 6, 'WiFiName': 'Moscow_WiFi_Free', 'CoverageArea': 50, 'FunctionFlag': 'действует', 'AccessFlag': 'открытая сеть', 'Password': '', 'Latitude_WGS84': '55.749841', 'Longitude_WGS84': '37.802562', 'global_id': 879795209}, 'rowId': None, 'versionNumber': 1, 'releaseNumber': 32}, 'type': 'Feature'}, {'geometry': {'coordinates': [37.513395, 55.665309], 'type': 'Point'}, 'properties': {'datasetId': 60789, 'attributes': {'is_deleted': 0, 'ID': 10, 'CinemaName': 'Государственное бюджетное учреждение культуры города Москвы «Киноконцертный зал «Эльдар»', 'AdmArea': 'Юго-Западный административный округ', 'District': 'Обручевский район', 'Address': 'Российская Федерация, город Москва, внутригородская территория муниципальный округ Обручевский, Ленинский проспект, дом 105', 'NumberOfAccessPoints': 5, 'WiFiName': 'Moscow_WiFi_Free', 'CoverageArea': 50, 'FunctionFlag': 'действует', 'AccessFlag': 'открытая сеть', 'Password': '', 'Latitude_WGS84': '55.665309', 'Longitude_WGS84': '37.513395', 'global_id': 879795211}, 'rowId': None, 'versionNumber': 1, 'releaseNumber': 32}, 'type': 'Feature'}, {'geometry': {'coordinates': [37.716144, 55.751817], 'type': 'Point'}, 'properties': {'datasetId': 60789, 'attributes': {'is_deleted': 0, 'ID': 11, 'CinemaName': 'Государственное бюджетное учреждение культуры города Москвы «Московское кино» Кинотеатр «Москино Факел»', 'AdmArea': 'Юго-Восточный административный округ', 'District': 'район Лефортово', 'Address': 'Российская Федерация, город Москва, внутригородская территория муниципальный округ Лефортово, шоссе Энтузиастов, дом 15/16', 'NumberOfAccessPoints': 3, 'WiFiName': 'Moscow_WiFi_Free', 'CoverageArea': 50, 'FunctionFlag': 'действует', 'AccessFlag': 'открытая сеть', 'Password': '', 'Latitude_WGS84': '55.751817', 'Longitude_WGS84': '37.716144', 'global_id': 879795212}, 'rowId': None, 'versionNumber': 1, 'releaseNumber': 32}, 'type': 'Feature'}] \n",
      "\n",
      "type --> FeatureCollection \n",
      "\n"
     ]
    }
   ],
   "source": [
    "for x in json_page:\n",
    "    print(f\"{x} --> {json_page[x]} \\n\")"
   ]
  },
  {
   "cell_type": "code",
   "execution_count": null,
   "metadata": {
    "id": "FSJj7Ykdhz6O"
   },
   "outputs": [
    {
     "name": "stdout",
     "output_type": "stream",
     "text": [
      "{'features': [{'geometry': {'coordinates': [37.636778, 55.818675],\n",
      "                            'type': 'Point'},\n",
      "               'properties': {'attributes': {'AccessFlag': 'открытая сеть',\n",
      "                                             'Address': 'Российская Федерация, '\n",
      "                                                        'город Москва, '\n",
      "                                                        'внутригородская '\n",
      "                                                        'территория '\n",
      "                                                        'муниципальный округ '\n",
      "                                                        'Останкинский, '\n",
      "                                                        'проспект Мира, дом '\n",
      "                                                        '109',\n",
      "                                             'AdmArea': 'Северо-Восточный '\n",
      "                                                        'административный '\n",
      "                                                        'округ',\n",
      "                                             'CinemaName': 'Государственное '\n",
      "                                                           'бюджетное '\n",
      "                                                           'учреждение '\n",
      "                                                           'культуры города '\n",
      "                                                           'Москвы «Московское '\n",
      "                                                           'кино» Кинотеатр '\n",
      "                                                           '«Москино Космос»',\n",
      "                                             'CoverageArea': 50,\n",
      "                                             'District': 'Останкинский район',\n",
      "                                             'FunctionFlag': 'действует',\n",
      "                                             'ID': 1,\n",
      "                                             'Latitude_WGS84': '55.818675',\n",
      "                                             'Longitude_WGS84': '37.636778',\n",
      "                                             'NumberOfAccessPoints': 7,\n",
      "                                             'Password': '',\n",
      "                                             'WiFiName': 'Moscow_WiFi_Free',\n",
      "                                             'global_id': 879791944,\n",
      "                                             'is_deleted': 0},\n",
      "                              'datasetId': 60789,\n",
      "                              'releaseNumber': 32,\n",
      "                              'rowId': None,\n",
      "                              'versionNumber': 1},\n",
      "               'type': 'Feature'},\n",
      "              {'geometry': {'coordinates': [37.718534, 55.685873],\n",
      "                            'type': 'Point'},\n",
      "               'properties': {'attributes': {'AccessFlag': 'открытая сеть',\n",
      "                                             'Address': 'город Москва, улица '\n",
      "                                                        'Кухмистерова, дом 4',\n",
      "                                             'AdmArea': 'Юго-Восточный '\n",
      "                                                        'административный '\n",
      "                                                        'округ',\n",
      "                                             'CinemaName': 'Государственное '\n",
      "                                                           'бюджетное '\n",
      "                                                           'учреждение '\n",
      "                                                           'культуры города '\n",
      "                                                           'Москвы «Московское '\n",
      "                                                           'кино» Кинотеатр '\n",
      "                                                           '«Москино Тула»',\n",
      "                                             'CoverageArea': 50,\n",
      "                                             'District': 'район Печатники',\n",
      "                                             'FunctionFlag': 'действует',\n",
      "                                             'ID': 3,\n",
      "                                             'Latitude_WGS84': '55.685873',\n",
      "                                             'Longitude_WGS84': '37.718534',\n",
      "                                             'NumberOfAccessPoints': 8,\n",
      "                                             'Password': '',\n",
      "                                             'WiFiName': 'Moscow_WiFi_Free',\n",
      "                                             'global_id': 879791951,\n",
      "                                             'is_deleted': 0},\n",
      "                              'datasetId': 60789,\n",
      "                              'releaseNumber': 32,\n",
      "                              'rowId': None,\n",
      "                              'versionNumber': 1},\n",
      "               'type': 'Feature'},\n",
      "              {'geometry': {'coordinates': [37.731299, 55.710864],\n",
      "                            'type': 'Point'},\n",
      "               'properties': {'attributes': {'AccessFlag': 'открытая сеть',\n",
      "                                             'Address': 'Российская Федерация, '\n",
      "                                                        'город Москва, '\n",
      "                                                        'внутригородская '\n",
      "                                                        'территория '\n",
      "                                                        'муниципальный округ '\n",
      "                                                        'Текстильщики, '\n",
      "                                                        'Люблинская улица, дом '\n",
      "                                                        '11',\n",
      "                                             'AdmArea': 'Юго-Восточный '\n",
      "                                                        'административный '\n",
      "                                                        'округ',\n",
      "                                             'CinemaName': 'Государственное '\n",
      "                                                           'бюджетное '\n",
      "                                                           'учреждение '\n",
      "                                                           'культуры города '\n",
      "                                                           'Москвы «Московское '\n",
      "                                                           'кино» Кинотеатр '\n",
      "                                                           '«Москино '\n",
      "                                                           'Молодежный»',\n",
      "                                             'CoverageArea': 50,\n",
      "                                             'District': 'район Текстильщики',\n",
      "                                             'FunctionFlag': 'действует',\n",
      "                                             'ID': 4,\n",
      "                                             'Latitude_WGS84': '55.710864',\n",
      "                                             'Longitude_WGS84': '37.731299',\n",
      "                                             'NumberOfAccessPoints': 6,\n",
      "                                             'Password': '',\n",
      "                                             'WiFiName': 'Moscow_WiFi_Free',\n",
      "                                             'global_id': 879791953,\n",
      "                                             'is_deleted': 0},\n",
      "                              'datasetId': 60789,\n",
      "                              'releaseNumber': 32,\n",
      "                              'rowId': None,\n",
      "                              'versionNumber': 1},\n",
      "               'type': 'Feature'},\n",
      "              {'geometry': {'coordinates': [37.57121, 55.814406],\n",
      "                            'type': 'Point'},\n",
      "               'properties': {'attributes': {'AccessFlag': 'открытая сеть',\n",
      "                                             'Address': 'Российская Федерация, '\n",
      "                                                        'город Москва, '\n",
      "                                                        'внутригородская '\n",
      "                                                        'территория '\n",
      "                                                        'муниципальный округ '\n",
      "                                                        'Тимирязевский, улица '\n",
      "                                                        'Костякова, дом 10',\n",
      "                                             'AdmArea': 'Северный '\n",
      "                                                        'административный '\n",
      "                                                        'округ',\n",
      "                                             'CinemaName': 'Государственное '\n",
      "                                                           'бюджетное '\n",
      "                                                           'учреждение '\n",
      "                                                           'культуры города '\n",
      "                                                           'Москвы «Московское '\n",
      "                                                           'кино» Кинотеатр '\n",
      "                                                           '«Москино Искра»',\n",
      "                                             'CoverageArea': 50,\n",
      "                                             'District': 'Тимирязевский район',\n",
      "                                             'FunctionFlag': 'действует',\n",
      "                                             'ID': 7,\n",
      "                                             'Latitude_WGS84': '55.814406',\n",
      "                                             'Longitude_WGS84': '37.571210',\n",
      "                                             'NumberOfAccessPoints': 3,\n",
      "                                             'Password': '',\n",
      "                                             'WiFiName': 'Moscow_WiFi_Free',\n",
      "                                             'global_id': 879791961,\n",
      "                                             'is_deleted': 0},\n",
      "                              'datasetId': 60789,\n",
      "                              'releaseNumber': 32,\n",
      "                              'rowId': None,\n",
      "                              'versionNumber': 1},\n",
      "               'type': 'Feature'},\n",
      "              {'geometry': {'coordinates': [37.647549, 55.851945],\n",
      "                            'type': 'Point'},\n",
      "               'properties': {'attributes': {'AccessFlag': 'открытая сеть',\n",
      "                                             'Address': 'Российская Федерация, '\n",
      "                                                        'город Москва, '\n",
      "                                                        'внутригородская '\n",
      "                                                        'территория '\n",
      "                                                        'муниципальный округ '\n",
      "                                                        'Свиблово, Снежная '\n",
      "                                                        'улица, дом 18',\n",
      "                                             'AdmArea': 'Северо-Восточный '\n",
      "                                                        'административный '\n",
      "                                                        'округ',\n",
      "                                             'CinemaName': 'Государственное '\n",
      "                                                           'бюджетное '\n",
      "                                                           'учреждение '\n",
      "                                                           'культуры города '\n",
      "                                                           'Москвы «Московское '\n",
      "                                                           'кино» Кинотеатр '\n",
      "                                                           '«Москино Сатурн»',\n",
      "                                             'CoverageArea': 50,\n",
      "                                             'District': 'район Свиблово',\n",
      "                                             'FunctionFlag': 'действует',\n",
      "                                             'ID': 9,\n",
      "                                             'Latitude_WGS84': '55.851945',\n",
      "                                             'Longitude_WGS84': '37.647549',\n",
      "                                             'NumberOfAccessPoints': 5,\n",
      "                                             'Password': '',\n",
      "                                             'WiFiName': 'Moscow_WiFi_Free',\n",
      "                                             'global_id': 879791967,\n",
      "                                             'is_deleted': 0},\n",
      "                              'datasetId': 60789,\n",
      "                              'releaseNumber': 32,\n",
      "                              'rowId': None,\n",
      "                              'versionNumber': 1},\n",
      "               'type': 'Feature'},\n",
      "              {'geometry': {'coordinates': [37.676825, 55.861974],\n",
      "                            'type': 'Point'},\n",
      "               'properties': {'attributes': {'AccessFlag': 'открытая сеть',\n",
      "                                             'Address': 'Российская Федерация, '\n",
      "                                                        'город Москва, '\n",
      "                                                        'внутригородская '\n",
      "                                                        'территория '\n",
      "                                                        'муниципальный округ '\n",
      "                                                        'Бабушкинский, улица '\n",
      "                                                        'Коминтерна, дом 8',\n",
      "                                             'AdmArea': 'Северо-Восточный '\n",
      "                                                        'административный '\n",
      "                                                        'округ',\n",
      "                                             'CinemaName': 'Государственное '\n",
      "                                                           'бюджетное '\n",
      "                                                           'учреждение '\n",
      "                                                           'культуры города '\n",
      "                                                           'Москвы «Московское '\n",
      "                                                           'кино» Кинотеатр '\n",
      "                                                           '«Москино Вымпел»',\n",
      "                                             'CoverageArea': 50,\n",
      "                                             'District': 'Бабушкинский район',\n",
      "                                             'FunctionFlag': 'действует',\n",
      "                                             'ID': 2,\n",
      "                                             'Latitude_WGS84': '55.861974',\n",
      "                                             'Longitude_WGS84': '37.676825',\n",
      "                                             'NumberOfAccessPoints': 5,\n",
      "                                             'Password': '',\n",
      "                                             'WiFiName': 'Moscow_WiFi_Free',\n",
      "                                             'global_id': 879795206,\n",
      "                                             'is_deleted': 0},\n",
      "                              'datasetId': 60789,\n",
      "                              'releaseNumber': 32,\n",
      "                              'rowId': None,\n",
      "                              'versionNumber': 1},\n",
      "               'type': 'Feature'},\n",
      "              {'geometry': {'coordinates': [37.705508, 55.764303],\n",
      "                            'type': 'Point'},\n",
      "               'properties': {'attributes': {'AccessFlag': 'открытая сеть',\n",
      "                                             'Address': 'Российская Федерация, '\n",
      "                                                        'город Москва, '\n",
      "                                                        'внутригородская '\n",
      "                                                        'территория '\n",
      "                                                        'муниципальный округ '\n",
      "                                                        'Лефортово, Солдатская '\n",
      "                                                        'улица, дом 15',\n",
      "                                             'AdmArea': 'Юго-Восточный '\n",
      "                                                        'административный '\n",
      "                                                        'округ',\n",
      "                                             'CinemaName': 'Государственное '\n",
      "                                                           'бюджетное '\n",
      "                                                           'учреждение '\n",
      "                                                           'культуры города '\n",
      "                                                           'Москвы «Московское '\n",
      "                                                           'кино» Кинотеатр '\n",
      "                                                           '«Москино Спутник»',\n",
      "                                             'CoverageArea': 50,\n",
      "                                             'District': 'район Лефортово',\n",
      "                                             'FunctionFlag': 'действует',\n",
      "                                             'ID': 5,\n",
      "                                             'Latitude_WGS84': '55.764303',\n",
      "                                             'Longitude_WGS84': '37.705508',\n",
      "                                             'NumberOfAccessPoints': 4,\n",
      "                                             'Password': '',\n",
      "                                             'WiFiName': 'Moscow_WiFi_Free',\n",
      "                                             'global_id': 879795207,\n",
      "                                             'is_deleted': 0},\n",
      "                              'datasetId': 60789,\n",
      "                              'releaseNumber': 32,\n",
      "                              'rowId': None,\n",
      "                              'versionNumber': 1},\n",
      "               'type': 'Feature'},\n",
      "              {'geometry': {'coordinates': [37.571585, 55.682787],\n",
      "                            'type': 'Point'},\n",
      "               'properties': {'attributes': {'AccessFlag': 'открытая сеть',\n",
      "                                             'Address': 'Российская Федерация, '\n",
      "                                                        'город Москва, '\n",
      "                                                        'внутригородская '\n",
      "                                                        'территория '\n",
      "                                                        'муниципальный округ '\n",
      "                                                        'Академический, улица '\n",
      "                                                        'Кедрова, дом 14, '\n",
      "                                                        'корпус 1',\n",
      "                                             'AdmArea': 'Юго-Западный '\n",
      "                                                        'административный '\n",
      "                                                        'округ',\n",
      "                                             'CinemaName': 'Государственное '\n",
      "                                                           'бюджетное '\n",
      "                                                           'учреждение '\n",
      "                                                           'культуры города '\n",
      "                                                           'Москвы «Московское '\n",
      "                                                           'кино» Кинотеатр '\n",
      "                                                           '«Москино Салют»',\n",
      "                                             'CoverageArea': 50,\n",
      "                                             'District': 'Академический район',\n",
      "                                             'FunctionFlag': 'действует',\n",
      "                                             'ID': 6,\n",
      "                                             'Latitude_WGS84': '55.682787',\n",
      "                                             'Longitude_WGS84': '37.571585',\n",
      "                                             'NumberOfAccessPoints': 3,\n",
      "                                             'Password': '',\n",
      "                                             'WiFiName': 'Moscow_WiFi_Free',\n",
      "                                             'global_id': 879795208,\n",
      "                                             'is_deleted': 0},\n",
      "                              'datasetId': 60789,\n",
      "                              'releaseNumber': 32,\n",
      "                              'rowId': None,\n",
      "                              'versionNumber': 1},\n",
      "               'type': 'Feature'},\n",
      "              {'geometry': {'coordinates': [37.802562, 55.749841],\n",
      "                            'type': 'Point'},\n",
      "               'properties': {'attributes': {'AccessFlag': 'открытая сеть',\n",
      "                                             'Address': 'Российская Федерация, '\n",
      "                                                        'город Москва, '\n",
      "                                                        'внутригородская '\n",
      "                                                        'территория '\n",
      "                                                        'муниципальный округ '\n",
      "                                                        'Новогиреево, '\n",
      "                                                        'Мартеновская улица, '\n",
      "                                                        'дом 25',\n",
      "                                             'AdmArea': 'Восточный '\n",
      "                                                        'административный '\n",
      "                                                        'округ',\n",
      "                                             'CinemaName': 'Государственное '\n",
      "                                                           'бюджетное '\n",
      "                                                           'учреждение '\n",
      "                                                           'культуры города '\n",
      "                                                           'Москвы «Московское '\n",
      "                                                           'кино» Кинотеатр '\n",
      "                                                           '«Москино Березка»',\n",
      "                                             'CoverageArea': 50,\n",
      "                                             'District': 'район Новогиреево',\n",
      "                                             'FunctionFlag': 'действует',\n",
      "                                             'ID': 8,\n",
      "                                             'Latitude_WGS84': '55.749841',\n",
      "                                             'Longitude_WGS84': '37.802562',\n",
      "                                             'NumberOfAccessPoints': 6,\n",
      "                                             'Password': '',\n",
      "                                             'WiFiName': 'Moscow_WiFi_Free',\n",
      "                                             'global_id': 879795209,\n",
      "                                             'is_deleted': 0},\n",
      "                              'datasetId': 60789,\n",
      "                              'releaseNumber': 32,\n",
      "                              'rowId': None,\n",
      "                              'versionNumber': 1},\n",
      "               'type': 'Feature'},\n",
      "              {'geometry': {'coordinates': [37.513395, 55.665309],\n",
      "                            'type': 'Point'},\n",
      "               'properties': {'attributes': {'AccessFlag': 'открытая сеть',\n",
      "                                             'Address': 'Российская Федерация, '\n",
      "                                                        'город Москва, '\n",
      "                                                        'внутригородская '\n",
      "                                                        'территория '\n",
      "                                                        'муниципальный округ '\n",
      "                                                        'Обручевский, '\n",
      "                                                        'Ленинский проспект, '\n",
      "                                                        'дом 105',\n",
      "                                             'AdmArea': 'Юго-Западный '\n",
      "                                                        'административный '\n",
      "                                                        'округ',\n",
      "                                             'CinemaName': 'Государственное '\n",
      "                                                           'бюджетное '\n",
      "                                                           'учреждение '\n",
      "                                                           'культуры города '\n",
      "                                                           'Москвы '\n",
      "                                                           '«Киноконцертный '\n",
      "                                                           'зал «Эльдар»',\n",
      "                                             'CoverageArea': 50,\n",
      "                                             'District': 'Обручевский район',\n",
      "                                             'FunctionFlag': 'действует',\n",
      "                                             'ID': 10,\n",
      "                                             'Latitude_WGS84': '55.665309',\n",
      "                                             'Longitude_WGS84': '37.513395',\n",
      "                                             'NumberOfAccessPoints': 5,\n",
      "                                             'Password': '',\n",
      "                                             'WiFiName': 'Moscow_WiFi_Free',\n",
      "                                             'global_id': 879795211,\n",
      "                                             'is_deleted': 0},\n",
      "                              'datasetId': 60789,\n",
      "                              'releaseNumber': 32,\n",
      "                              'rowId': None,\n",
      "                              'versionNumber': 1},\n",
      "               'type': 'Feature'},\n",
      "              {'geometry': {'coordinates': [37.716144, 55.751817],\n",
      "                            'type': 'Point'},\n",
      "               'properties': {'attributes': {'AccessFlag': 'открытая сеть',\n",
      "                                             'Address': 'Российская Федерация, '\n",
      "                                                        'город Москва, '\n",
      "                                                        'внутригородская '\n",
      "                                                        'территория '\n",
      "                                                        'муниципальный округ '\n",
      "                                                        'Лефортово, шоссе '\n",
      "                                                        'Энтузиастов, дом '\n",
      "                                                        '15/16',\n",
      "                                             'AdmArea': 'Юго-Восточный '\n",
      "                                                        'административный '\n",
      "                                                        'округ',\n",
      "                                             'CinemaName': 'Государственное '\n",
      "                                                           'бюджетное '\n",
      "                                                           'учреждение '\n",
      "                                                           'культуры города '\n",
      "                                                           'Москвы «Московское '\n",
      "                                                           'кино» Кинотеатр '\n",
      "                                                           '«Москино Факел»',\n",
      "                                             'CoverageArea': 50,\n",
      "                                             'District': 'район Лефортово',\n",
      "                                             'FunctionFlag': 'действует',\n",
      "                                             'ID': 11,\n",
      "                                             'Latitude_WGS84': '55.751817',\n",
      "                                             'Longitude_WGS84': '37.716144',\n",
      "                                             'NumberOfAccessPoints': 3,\n",
      "                                             'Password': '',\n",
      "                                             'WiFiName': 'Moscow_WiFi_Free',\n",
      "                                             'global_id': 879795212,\n",
      "                                             'is_deleted': 0},\n",
      "                              'datasetId': 60789,\n",
      "                              'releaseNumber': 32,\n",
      "                              'rowId': None,\n",
      "                              'versionNumber': 1},\n",
      "               'type': 'Feature'}],\n",
      " 'type': 'FeatureCollection'}\n"
     ]
    }
   ],
   "source": [
    "pprint.pprint(json_page)"
   ]
  },
  {
   "cell_type": "markdown",
   "metadata": {
    "id": "xTubY5cRenax"
   },
   "source": [
    "# **Задание 1.10.** Выполнить парсинг веб-страницы с помощью `Beautiful Soup`"
   ]
  },
  {
   "cell_type": "markdown",
   "metadata": {
    "id": "LnUY5VS_kaUs"
   },
   "source": [
    " <font color='blue'>Парсинг веб-страниц с помощью Beautiful Soup</font>\n",
    "\n",
    "- Веб-скрапинг позволяет загрузить HTML-код веб-сайта и извлечь необходимые вам данные.\n",
    "- Beautiful Soup — это библиотека Python для очистки данных с веб-сайтов.\n",
    "- Beautiful Soup создает дерево разбора из проанализированных документов HTML и XML."
   ]
  },
  {
   "cell_type": "code",
   "execution_count": null,
   "metadata": {
    "id": "O4itFt8mklPV"
   },
   "outputs": [],
   "source": [
    "from bs4 import BeautifulSoup as bso"
   ]
  },
  {
   "cell_type": "code",
   "execution_count": null,
   "metadata": {
    "id": "i4qW1Nvkkn-B"
   },
   "outputs": [],
   "source": [
    "# Отправление запроса на получение данных и присваивание ответ переменной.\n",
    "source = reqs.get(\"https://apidata.mos.ru/v1/datasets/60789/features?api_key=efb65918-60a2-4370-97b3-6f3b4798aa44\")"
   ]
  },
  {
   "cell_type": "code",
   "execution_count": null,
   "metadata": {
    "id": "yFJqrl6Fa5au"
   },
   "outputs": [
    {
     "name": "stdout",
     "output_type": "stream",
     "text": [
      "Content type: \n",
      "\t application/json\n"
     ]
    }
   ],
   "source": [
    "print(f\"Content type: \\n\\t {source.headers['content-type']}\")"
   ]
  },
  {
   "cell_type": "code",
   "execution_count": null,
   "metadata": {
    "id": "e0iCRFeOk8QN"
   },
   "outputs": [
    {
     "name": "stdout",
     "output_type": "stream",
     "text": [
      "<Response [200]>\n"
     ]
    }
   ],
   "source": [
    "print(source)"
   ]
  },
  {
   "cell_type": "markdown",
   "metadata": {
    "id": "I2K4PKBZlKjR"
   },
   "source": [
    "**Задание 1.10.1.** Выполнить парсинг веб-страницы с помощью `Beautiful Soup`. Создать beautiful soup объект."
   ]
  },
  {
   "cell_type": "code",
   "execution_count": null,
   "metadata": {
    "id": "UY_9Ro7alce_"
   },
   "outputs": [],
   "source": [
    "mysoup = bso(source.text, 'html.parser')"
   ]
  },
  {
   "cell_type": "markdown",
   "metadata": {
    "id": "9wA_Ko8kleCF"
   },
   "source": [
    "**Задание 1.10.2.** Выполнить парсинг веб-страницы с помощью `Beautiful Soup`. Распечатайте HTML-содержимое страницы, используя метод prettify"
   ]
  },
  {
   "cell_type": "code",
   "execution_count": null,
   "metadata": {
    "id": "jTbNBgTvltXT"
   },
   "outputs": [
    {
     "name": "stdout",
     "output_type": "stream",
     "text": [
      "{\"features\":[{\"geometry\":{\"coordinates\":[37.636778,55.818675],\"type\":\"Point\"},\"properties\":{\"datasetId\":60789,\"attributes\":{\"is_deleted\":0,\"ID\":1,\"CinemaName\":\"Государственное бюджетное учреждение культуры города Москвы «Московское кино» Кинотеатр «Москино Космос»\",\"AdmArea\":\"Северо-Восточный административный округ\",\"District\":\"Останкинский район\",\"Address\":\"Российская Федерация, город Москва, внутригородская территория муниципальный округ Останкинский, проспект Мира, дом 109\",\"NumberOfAccessPoints\":7,\"WiFiName\":\"Moscow_WiFi_Free\",\"CoverageArea\":50,\"FunctionFlag\":\"действует\",\"AccessFlag\":\"открытая сеть\",\"Password\":\"\",\"Latitude_WGS84\":\"55.818675\",\"Longitude_WGS84\":\"37.636778\",\"global_id\":879791944},\"rowId\":null,\"versionNumber\":1,\"releaseNumber\":32},\"type\":\"Feature\"},{\"geometry\":{\"coordinates\":[37.718534,55.685873],\"type\":\"Point\"},\"properties\":{\"datasetId\":60789,\"attributes\":{\"is_deleted\":0,\"ID\":3,\"CinemaName\":\"Государственное бюджетное учреждение культуры города Москвы «Московское кино» Кинотеатр «Москино Тула»\",\"AdmArea\":\"Юго-Восточный административный округ\",\"District\":\"район Печатники\",\"Address\":\"город Москва, улица Кухмистерова, дом 4\",\"NumberOfAccessPoints\":8,\"WiFiName\":\"Moscow_WiFi_Free\",\"CoverageArea\":50,\"FunctionFlag\":\"действует\",\"AccessFlag\":\"открытая сеть\",\"Password\":\"\",\"Latitude_WGS84\":\"55.685873\",\"Longitude_WGS84\":\"37.718534\",\"global_id\":879791951},\"rowId\":null,\"versionNumber\":1,\"releaseNumber\":32},\"type\":\"Feature\"},{\"geometry\":{\"coordinates\":[37.731299,55.710864],\"type\":\"Point\"},\"properties\":{\"datasetId\":60789,\"attributes\":{\"is_deleted\":0,\"ID\":4,\"CinemaName\":\"Государственное бюджетное учреждение культуры города Москвы «Московское кино» Кинотеатр «Москино Молодежный»\",\"AdmArea\":\"Юго-Восточный административный округ\",\"District\":\"район Текстильщики\",\"Address\":\"Российская Федерация, город Москва, внутригородская территория муниципальный округ Текстильщики, Люблинская улица, дом 11\",\"NumberOfAccessPoints\":6,\"WiFiName\":\"Moscow_WiFi_Free\",\"CoverageArea\":50,\"FunctionFlag\":\"действует\",\"AccessFlag\":\"открытая сеть\",\"Password\":\"\",\"Latitude_WGS84\":\"55.710864\",\"Longitude_WGS84\":\"37.731299\",\"global_id\":879791953},\"rowId\":null,\"versionNumber\":1,\"releaseNumber\":32},\"type\":\"Feature\"},{\"geometry\":{\"coordinates\":[37.57121,55.814406],\"type\":\"Point\"},\"properties\":{\"datasetId\":60789,\"attributes\":{\"is_deleted\":0,\"ID\":7,\"CinemaName\":\"Государственное бюджетное учреждение культуры города Москвы «Московское кино» Кинотеатр «Москино Искра»\",\"AdmArea\":\"Северный административный округ\",\"District\":\"Тимирязевский район\",\"Address\":\"Российская Федерация, город Москва, внутригородская территория муниципальный округ Тимирязевский, улица Костякова, дом 10\",\"NumberOfAccessPoints\":3,\"WiFiName\":\"Moscow_WiFi_Free\",\"CoverageArea\":50,\"FunctionFlag\":\"действует\",\"AccessFlag\":\"открытая сеть\",\"Password\":\"\",\"Latitude_WGS84\":\"55.814406\",\"Longitude_WGS84\":\"37.571210\",\"global_id\":879791961},\"rowId\":null,\"versionNumber\":1,\"releaseNumber\":32},\"type\":\"Feature\"},{\"geometry\":{\"coordinates\":[37.647549,55.851945],\"type\":\"Point\"},\"properties\":{\"datasetId\":60789,\"attributes\":{\"is_deleted\":0,\"ID\":9,\"CinemaName\":\"Государственное бюджетное учреждение культуры города Москвы «Московское кино» Кинотеатр «Москино Сатурн»\",\"AdmArea\":\"Северо-Восточный административный округ\",\"District\":\"район Свиблово\",\"Address\":\"Российская Федерация, город Москва, внутригородская территория муниципальный округ Свиблово, Снежная улица, дом 18\",\"NumberOfAccessPoints\":5,\"WiFiName\":\"Moscow_WiFi_Free\",\"CoverageArea\":50,\"FunctionFlag\":\"действует\",\"AccessFlag\":\"открытая сеть\",\"Password\":\"\",\"Latitude_WGS84\":\"55.851945\",\"Longitude_WGS84\":\"37.647549\",\"global_id\":879791967},\"rowId\":null,\"versionNumber\":1,\"releaseNumber\":32},\"type\":\"Feature\"},{\"geometry\":{\"coordinates\":[37.676825,55.861974],\"type\":\"Point\"},\"properties\":{\"datasetId\":60789,\"attributes\":{\"is_deleted\":0,\"ID\":2,\"CinemaName\":\"Государственное бюджетное учреждение культуры города Москвы «Московское кино» Кинотеатр «Москино Вымпел»\",\"AdmArea\":\"Северо-Восточный административный округ\",\"District\":\"Бабушкинский район\",\"Address\":\"Российская Федерация, город Москва, внутригородская территория муниципальный округ Бабушкинский, улица Коминтерна, дом 8\",\"NumberOfAccessPoints\":5,\"WiFiName\":\"Moscow_WiFi_Free\",\"CoverageArea\":50,\"FunctionFlag\":\"действует\",\"AccessFlag\":\"открытая сеть\",\"Password\":\"\",\"Latitude_WGS84\":\"55.861974\",\"Longitude_WGS84\":\"37.676825\",\"global_id\":879795206},\"rowId\":null,\"versionNumber\":1,\"releaseNumber\":32},\"type\":\"Feature\"},{\"geometry\":{\"coordinates\":[37.705508,55.764303],\"type\":\"Point\"},\"properties\":{\"datasetId\":60789,\"attributes\":{\"is_deleted\":0,\"ID\":5,\"CinemaName\":\"Государственное бюджетное учреждение культуры города Москвы «Московское кино» Кинотеатр «Москино Спутник»\",\"AdmArea\":\"Юго-Восточный административный округ\",\"District\":\"район Лефортово\",\"Address\":\"Российская Федерация, город Москва, внутригородская территория муниципальный округ Лефортово, Солдатская улица, дом 15\",\"NumberOfAccessPoints\":4,\"WiFiName\":\"Moscow_WiFi_Free\",\"CoverageArea\":50,\"FunctionFlag\":\"действует\",\"AccessFlag\":\"открытая сеть\",\"Password\":\"\",\"Latitude_WGS84\":\"55.764303\",\"Longitude_WGS84\":\"37.705508\",\"global_id\":879795207},\"rowId\":null,\"versionNumber\":1,\"releaseNumber\":32},\"type\":\"Feature\"},{\"geometry\":{\"coordinates\":[37.571585,55.682787],\"type\":\"Point\"},\"properties\":{\"datasetId\":60789,\"attributes\":{\"is_deleted\":0,\"ID\":6,\"CinemaName\":\"Государственное бюджетное учреждение культуры города Москвы «Московское кино» Кинотеатр «Москино Салют»\",\"AdmArea\":\"Юго-Западный административный округ\",\"District\":\"Академический район\",\"Address\":\"Российская Федерация, город Москва, внутригородская территория муниципальный округ Академический, улица Кедрова, дом 14, корпус 1\",\"NumberOfAccessPoints\":3,\"WiFiName\":\"Moscow_WiFi_Free\",\"CoverageArea\":50,\"FunctionFlag\":\"действует\",\"AccessFlag\":\"открытая сеть\",\"Password\":\"\",\"Latitude_WGS84\":\"55.682787\",\"Longitude_WGS84\":\"37.571585\",\"global_id\":879795208},\"rowId\":null,\"versionNumber\":1,\"releaseNumber\":32},\"type\":\"Feature\"},{\"geometry\":{\"coordinates\":[37.802562,55.749841],\"type\":\"Point\"},\"properties\":{\"datasetId\":60789,\"attributes\":{\"is_deleted\":0,\"ID\":8,\"CinemaName\":\"Государственное бюджетное учреждение культуры города Москвы «Московское кино» Кинотеатр «Москино Березка»\",\"AdmArea\":\"Восточный административный округ\",\"District\":\"район Новогиреево\",\"Address\":\"Российская Федерация, город Москва, внутригородская территория муниципальный округ Новогиреево, Мартеновская улица, дом 25\",\"NumberOfAccessPoints\":6,\"WiFiName\":\"Moscow_WiFi_Free\",\"CoverageArea\":50,\"FunctionFlag\":\"действует\",\"AccessFlag\":\"открытая сеть\",\"Password\":\"\",\"Latitude_WGS84\":\"55.749841\",\"Longitude_WGS84\":\"37.802562\",\"global_id\":879795209},\"rowId\":null,\"versionNumber\":1,\"releaseNumber\":32},\"type\":\"Feature\"},{\"geometry\":{\"coordinates\":[37.513395,55.665309],\"type\":\"Point\"},\"properties\":{\"datasetId\":60789,\"attributes\":{\"is_deleted\":0,\"ID\":10,\"CinemaName\":\"Государственное бюджетное учреждение культуры города Москвы «Киноконцертный зал «Эльдар»\",\"AdmArea\":\"Юго-Западный административный округ\",\"District\":\"Обручевский район\",\"Address\":\"Российская Федерация, город Москва, внутригородская территория муниципальный округ Обручевский, Ленинский проспект, дом 105\",\"NumberOfAccessPoints\":5,\"WiFiName\":\"Moscow_WiFi_Free\",\"CoverageArea\":50,\"FunctionFlag\":\"действует\",\"AccessFlag\":\"открытая сеть\",\"Password\":\"\",\"Latitude_WGS84\":\"55.665309\",\"Longitude_WGS84\":\"37.513395\",\"global_id\":879795211},\"rowId\":null,\"versionNumber\":1,\"releaseNumber\":32},\"type\":\"Feature\"},{\"geometry\":{\"coordinates\":[37.716144,55.751817],\"type\":\"Point\"},\"properties\":{\"datasetId\":60789,\"attributes\":{\"is_deleted\":0,\"ID\":11,\"CinemaName\":\"Государственное бюджетное учреждение культуры города Москвы «Московское кино» Кинотеатр «Москино Факел»\",\"AdmArea\":\"Юго-Восточный административный округ\",\"District\":\"район Лефортово\",\"Address\":\"Российская Федерация, город Москва, внутригородская территория муниципальный округ Лефортово, шоссе Энтузиастов, дом 15/16\",\"NumberOfAccessPoints\":3,\"WiFiName\":\"Moscow_WiFi_Free\",\"CoverageArea\":50,\"FunctionFlag\":\"действует\",\"AccessFlag\":\"открытая сеть\",\"Password\":\"\",\"Latitude_WGS84\":\"55.751817\",\"Longitude_WGS84\":\"37.716144\",\"global_id\":879795212},\"rowId\":null,\"versionNumber\":1,\"releaseNumber\":32},\"type\":\"Feature\"}],\"type\":\"FeatureCollection\"}\n",
      "\n"
     ]
    }
   ],
   "source": [
    "print(mysoup.prettify())"
   ]
  },
  {
   "cell_type": "markdown",
   "metadata": {
    "id": "MTREZUPtlxmQ"
   },
   "source": [
    "**Задание 1.10.3.** Выполнить парсинг веб-страницы с помощью `Beautiful Soup`. Получить заголовок страницы"
   ]
  },
  {
   "cell_type": "code",
   "execution_count": null,
   "metadata": {
    "id": "ZLysxT0Ul6oV"
   },
   "outputs": [
    {
     "name": "stdout",
     "output_type": "stream",
     "text": [
      "None\n"
     ]
    }
   ],
   "source": [
    "print(mysoup.title)"
   ]
  },
  {
   "cell_type": "markdown",
   "metadata": {
    "id": "Vgdhx8i3vl0T"
   },
   "source": [
    "# Получение данных из таблиц РСУБД"
   ]
  },
  {
   "cell_type": "markdown",
   "metadata": {
    "id": "fBd1bLXTwTRY"
   },
   "source": [
    "**Задание 1.11.** Считать результаты запроса sqlite в DataFrame pandas"
   ]
  },
  {
   "cell_type": "code",
   "execution_count": null,
   "metadata": {
    "id": "sGqUHLPYwNh8"
   },
   "outputs": [
    {
     "data": {
      "text/html": [
       "<div>\n",
       "<style scoped>\n",
       "    .dataframe tbody tr th:only-of-type {\n",
       "        vertical-align: middle;\n",
       "    }\n",
       "\n",
       "    .dataframe tbody tr th {\n",
       "        vertical-align: top;\n",
       "    }\n",
       "\n",
       "    .dataframe thead th {\n",
       "        text-align: right;\n",
       "    }\n",
       "</style>\n",
       "<table border=\"1\" class=\"dataframe\">\n",
       "  <thead>\n",
       "    <tr style=\"text-align: right;\">\n",
       "      <th></th>\n",
       "      <th>id</th>\n",
       "      <th>original_title</th>\n",
       "      <th>budget</th>\n",
       "      <th>popularity</th>\n",
       "      <th>release_date</th>\n",
       "      <th>revenue</th>\n",
       "      <th>title</th>\n",
       "      <th>vote_average</th>\n",
       "      <th>vote_count</th>\n",
       "      <th>overview</th>\n",
       "      <th>tagline</th>\n",
       "      <th>uid</th>\n",
       "      <th>director_id</th>\n",
       "    </tr>\n",
       "  </thead>\n",
       "  <tbody>\n",
       "    <tr>\n",
       "      <th>0</th>\n",
       "      <td>43597</td>\n",
       "      <td>Avatar</td>\n",
       "      <td>237000000</td>\n",
       "      <td>150</td>\n",
       "      <td>2009-12-10</td>\n",
       "      <td>2787965087</td>\n",
       "      <td>Avatar</td>\n",
       "      <td>7.2</td>\n",
       "      <td>11800</td>\n",
       "      <td>In the 22nd century, a paraplegic Marine is di...</td>\n",
       "      <td>Enter the World of Pandora.</td>\n",
       "      <td>19995</td>\n",
       "      <td>4762</td>\n",
       "    </tr>\n",
       "    <tr>\n",
       "      <th>1</th>\n",
       "      <td>43598</td>\n",
       "      <td>Pirates of the Caribbean: At World's End</td>\n",
       "      <td>300000000</td>\n",
       "      <td>139</td>\n",
       "      <td>2007-05-19</td>\n",
       "      <td>961000000</td>\n",
       "      <td>Pirates of the Caribbean: At World's End</td>\n",
       "      <td>6.9</td>\n",
       "      <td>4500</td>\n",
       "      <td>Captain Barbossa, long believed to be dead, ha...</td>\n",
       "      <td>At the end of the world, the adventure begins.</td>\n",
       "      <td>285</td>\n",
       "      <td>4763</td>\n",
       "    </tr>\n",
       "    <tr>\n",
       "      <th>2</th>\n",
       "      <td>43599</td>\n",
       "      <td>Spectre</td>\n",
       "      <td>245000000</td>\n",
       "      <td>107</td>\n",
       "      <td>2015-10-26</td>\n",
       "      <td>880674609</td>\n",
       "      <td>Spectre</td>\n",
       "      <td>6.3</td>\n",
       "      <td>4466</td>\n",
       "      <td>A cryptic message from Bond’s past sends him o...</td>\n",
       "      <td>A Plan No One Escapes</td>\n",
       "      <td>206647</td>\n",
       "      <td>4764</td>\n",
       "    </tr>\n",
       "    <tr>\n",
       "      <th>3</th>\n",
       "      <td>43600</td>\n",
       "      <td>The Dark Knight Rises</td>\n",
       "      <td>250000000</td>\n",
       "      <td>112</td>\n",
       "      <td>2012-07-16</td>\n",
       "      <td>1084939099</td>\n",
       "      <td>The Dark Knight Rises</td>\n",
       "      <td>7.6</td>\n",
       "      <td>9106</td>\n",
       "      <td>Following the death of District Attorney Harve...</td>\n",
       "      <td>The Legend Ends</td>\n",
       "      <td>49026</td>\n",
       "      <td>4765</td>\n",
       "    </tr>\n",
       "    <tr>\n",
       "      <th>4</th>\n",
       "      <td>43601</td>\n",
       "      <td>John Carter</td>\n",
       "      <td>260000000</td>\n",
       "      <td>43</td>\n",
       "      <td>2012-03-07</td>\n",
       "      <td>284139100</td>\n",
       "      <td>John Carter</td>\n",
       "      <td>6.1</td>\n",
       "      <td>2124</td>\n",
       "      <td>John Carter is a war-weary, former military ca...</td>\n",
       "      <td>Lost in our world, found in another.</td>\n",
       "      <td>49529</td>\n",
       "      <td>4766</td>\n",
       "    </tr>\n",
       "  </tbody>\n",
       "</table>\n",
       "</div>"
      ],
      "text/plain": [
       "      id                            original_title     budget  popularity   \n",
       "0  43597                                    Avatar  237000000         150  \\\n",
       "1  43598  Pirates of the Caribbean: At World's End  300000000         139   \n",
       "2  43599                                   Spectre  245000000         107   \n",
       "3  43600                     The Dark Knight Rises  250000000         112   \n",
       "4  43601                               John Carter  260000000          43   \n",
       "\n",
       "  release_date     revenue                                     title   \n",
       "0   2009-12-10  2787965087                                    Avatar  \\\n",
       "1   2007-05-19   961000000  Pirates of the Caribbean: At World's End   \n",
       "2   2015-10-26   880674609                                   Spectre   \n",
       "3   2012-07-16  1084939099                     The Dark Knight Rises   \n",
       "4   2012-03-07   284139100                               John Carter   \n",
       "\n",
       "   vote_average  vote_count   \n",
       "0           7.2       11800  \\\n",
       "1           6.9        4500   \n",
       "2           6.3        4466   \n",
       "3           7.6        9106   \n",
       "4           6.1        2124   \n",
       "\n",
       "                                            overview   \n",
       "0  In the 22nd century, a paraplegic Marine is di...  \\\n",
       "1  Captain Barbossa, long believed to be dead, ha...   \n",
       "2  A cryptic message from Bond’s past sends him o...   \n",
       "3  Following the death of District Attorney Harve...   \n",
       "4  John Carter is a war-weary, former military ca...   \n",
       "\n",
       "                                          tagline     uid  director_id  \n",
       "0                     Enter the World of Pandora.   19995         4762  \n",
       "1  At the end of the world, the adventure begins.     285         4763  \n",
       "2                           A Plan No One Escapes  206647         4764  \n",
       "3                                 The Legend Ends   49026         4765  \n",
       "4            Lost in our world, found in another.   49529         4766  "
      ]
     },
     "execution_count": 82,
     "metadata": {},
     "output_type": "execute_result"
    }
   ],
   "source": [
    "# Считываем результаты запроса sqlite в DataFrame pandas\n",
    "with sqlite3.connect(\"movies.sqlite\") as conn:\n",
    "    df = pd.read_sql(\"SELECT * from movies\", conn)\n",
    "df.head()"
   ]
  },
  {
   "cell_type": "markdown",
   "metadata": {
    "id": "h031gICWwyLR"
   },
   "source": [
    "# Получение данных `Parquet`"
   ]
  },
  {
   "cell_type": "markdown",
   "metadata": {
    "id": "Wal7CA3dw8Bm"
   },
   "source": [
    "Посетите URL https://www1.nyc.gov/site/tlc/about/tlc-trip-record-data.page."
   ]
  },
  {
   "cell_type": "code",
   "execution_count": null,
   "metadata": {},
   "outputs": [
    {
     "name": "stdout",
     "output_type": "stream",
     "text": [
      "Collecting fastparquetNote: you may need to restart the kernel to use updated packages.\n"
     ]
    },
    {
     "name": "stderr",
     "output_type": "stream",
     "text": [
      "\n",
      "[notice] A new release of pip is available: 23.1.2 -> 24.0\n",
      "[notice] To update, run: python.exe -m pip install --upgrade pip\n"
     ]
    },
    {
     "name": "stdout",
     "output_type": "stream",
     "text": [
      "\n",
      "  Downloading fastparquet-2024.2.0-cp311-cp311-win_amd64.whl (670 kB)\n",
      "                                              0.0/670.5 kB ? eta -:--:--\n",
      "     ------                                 112.6/670.5 kB 2.2 MB/s eta 0:00:01\n",
      "     ----------------                       286.7/670.5 kB 2.9 MB/s eta 0:00:01\n",
      "     --------------------------------       573.4/670.5 kB 4.0 MB/s eta 0:00:01\n",
      "     -------------------------------------- 670.5/670.5 kB 3.8 MB/s eta 0:00:00\n",
      "Requirement already satisfied: pandas>=1.5.0 in c:\\users\\79257\\appdata\\local\\programs\\python\\python311\\lib\\site-packages (from fastparquet) (2.0.1)\n",
      "Requirement already satisfied: numpy>=1.20.3 in c:\\users\\79257\\appdata\\local\\programs\\python\\python311\\lib\\site-packages (from fastparquet) (1.24.3)\n",
      "Collecting cramjam>=2.3 (from fastparquet)\n",
      "  Downloading cramjam-2.8.1-cp311-none-win_amd64.whl (1.6 MB)\n",
      "                                              0.0/1.6 MB ? eta -:--:--\n",
      "     -------                                  0.3/1.6 MB 6.7 MB/s eta 0:00:01\n",
      "     ---------------                          0.6/1.6 MB 6.7 MB/s eta 0:00:01\n",
      "     -----------------------                  0.9/1.6 MB 6.5 MB/s eta 0:00:01\n",
      "     ------------------------------           1.2/1.6 MB 7.0 MB/s eta 0:00:01\n",
      "     -------------------------------------    1.5/1.6 MB 6.8 MB/s eta 0:00:01\n",
      "     ---------------------------------------  1.6/1.6 MB 6.8 MB/s eta 0:00:01\n",
      "     ---------------------------------------- 1.6/1.6 MB 5.7 MB/s eta 0:00:00\n",
      "Collecting fsspec (from fastparquet)\n",
      "  Downloading fsspec-2024.2.0-py3-none-any.whl (170 kB)\n",
      "                                              0.0/170.9 kB ? eta -:--:--\n",
      "     -------------------------------------- 170.9/170.9 kB 5.2 MB/s eta 0:00:00\n",
      "Requirement already satisfied: packaging in c:\\users\\79257\\appdata\\local\\programs\\python\\python311\\lib\\site-packages (from fastparquet) (23.1)\n",
      "Requirement already satisfied: python-dateutil>=2.8.2 in c:\\users\\79257\\appdata\\local\\programs\\python\\python311\\lib\\site-packages (from pandas>=1.5.0->fastparquet) (2.8.2)\n",
      "Requirement already satisfied: pytz>=2020.1 in c:\\users\\79257\\appdata\\local\\programs\\python\\python311\\lib\\site-packages (from pandas>=1.5.0->fastparquet) (2023.3)\n",
      "Requirement already satisfied: tzdata>=2022.1 in c:\\users\\79257\\appdata\\local\\programs\\python\\python311\\lib\\site-packages (from pandas>=1.5.0->fastparquet) (2023.3)\n",
      "Requirement already satisfied: six>=1.5 in c:\\users\\79257\\appdata\\local\\programs\\python\\python311\\lib\\site-packages (from python-dateutil>=2.8.2->pandas>=1.5.0->fastparquet) (1.16.0)\n",
      "Installing collected packages: fsspec, cramjam, fastparquet\n",
      "Successfully installed cramjam-2.8.1 fastparquet-2024.2.0 fsspec-2024.2.0\n"
     ]
    }
   ],
   "source": [
    "\n",
    "pip install fastparquet"
   ]
  },
  {
   "cell_type": "code",
   "execution_count": null,
   "metadata": {},
   "outputs": [
    {
     "data": {
      "text/html": [
       "<div>\n",
       "<style scoped>\n",
       "    .dataframe tbody tr th:only-of-type {\n",
       "        vertical-align: middle;\n",
       "    }\n",
       "\n",
       "    .dataframe tbody tr th {\n",
       "        vertical-align: top;\n",
       "    }\n",
       "\n",
       "    .dataframe thead th {\n",
       "        text-align: right;\n",
       "    }\n",
       "</style>\n",
       "<table border=\"1\" class=\"dataframe\">\n",
       "  <thead>\n",
       "    <tr style=\"text-align: right;\">\n",
       "      <th></th>\n",
       "      <th>VendorID</th>\n",
       "      <th>tpep_pickup_datetime</th>\n",
       "      <th>tpep_dropoff_datetime</th>\n",
       "      <th>passenger_count</th>\n",
       "      <th>trip_distance</th>\n",
       "      <th>RatecodeID</th>\n",
       "      <th>store_and_fwd_flag</th>\n",
       "      <th>PULocationID</th>\n",
       "      <th>DOLocationID</th>\n",
       "      <th>payment_type</th>\n",
       "      <th>fare_amount</th>\n",
       "      <th>extra</th>\n",
       "      <th>mta_tax</th>\n",
       "      <th>tip_amount</th>\n",
       "      <th>tolls_amount</th>\n",
       "      <th>improvement_surcharge</th>\n",
       "      <th>total_amount</th>\n",
       "      <th>congestion_surcharge</th>\n",
       "      <th>Airport_fee</th>\n",
       "    </tr>\n",
       "  </thead>\n",
       "  <tbody>\n",
       "    <tr>\n",
       "      <th>0</th>\n",
       "      <td>2.0</td>\n",
       "      <td>2023-03-01 00:06:43</td>\n",
       "      <td>2023-03-01 00:16:43</td>\n",
       "      <td>1.0</td>\n",
       "      <td>0.00</td>\n",
       "      <td>1.0</td>\n",
       "      <td>N</td>\n",
       "      <td>238.0</td>\n",
       "      <td>42.0</td>\n",
       "      <td>2.0</td>\n",
       "      <td>8.60</td>\n",
       "      <td>1.0</td>\n",
       "      <td>0.5</td>\n",
       "      <td>0.00</td>\n",
       "      <td>0.0</td>\n",
       "      <td>1.0</td>\n",
       "      <td>11.10</td>\n",
       "      <td>0.0</td>\n",
       "      <td>0.00</td>\n",
       "    </tr>\n",
       "    <tr>\n",
       "      <th>1</th>\n",
       "      <td>2.0</td>\n",
       "      <td>2023-03-01 00:08:25</td>\n",
       "      <td>2023-03-01 00:39:30</td>\n",
       "      <td>2.0</td>\n",
       "      <td>12.40</td>\n",
       "      <td>1.0</td>\n",
       "      <td>N</td>\n",
       "      <td>138.0</td>\n",
       "      <td>231.0</td>\n",
       "      <td>1.0</td>\n",
       "      <td>52.70</td>\n",
       "      <td>6.0</td>\n",
       "      <td>0.5</td>\n",
       "      <td>12.54</td>\n",
       "      <td>0.0</td>\n",
       "      <td>1.0</td>\n",
       "      <td>76.49</td>\n",
       "      <td>2.5</td>\n",
       "      <td>1.25</td>\n",
       "    </tr>\n",
       "    <tr>\n",
       "      <th>2</th>\n",
       "      <td>1.0</td>\n",
       "      <td>2023-03-01 00:15:04</td>\n",
       "      <td>2023-03-01 00:29:26</td>\n",
       "      <td>0.0</td>\n",
       "      <td>3.30</td>\n",
       "      <td>1.0</td>\n",
       "      <td>N</td>\n",
       "      <td>140.0</td>\n",
       "      <td>186.0</td>\n",
       "      <td>1.0</td>\n",
       "      <td>18.40</td>\n",
       "      <td>3.5</td>\n",
       "      <td>0.5</td>\n",
       "      <td>4.65</td>\n",
       "      <td>0.0</td>\n",
       "      <td>1.0</td>\n",
       "      <td>28.05</td>\n",
       "      <td>2.5</td>\n",
       "      <td>0.00</td>\n",
       "    </tr>\n",
       "    <tr>\n",
       "      <th>3</th>\n",
       "      <td>1.0</td>\n",
       "      <td>2023-03-01 00:49:37</td>\n",
       "      <td>2023-03-01 01:01:05</td>\n",
       "      <td>1.0</td>\n",
       "      <td>2.90</td>\n",
       "      <td>1.0</td>\n",
       "      <td>N</td>\n",
       "      <td>140.0</td>\n",
       "      <td>43.0</td>\n",
       "      <td>1.0</td>\n",
       "      <td>15.60</td>\n",
       "      <td>3.5</td>\n",
       "      <td>0.5</td>\n",
       "      <td>4.10</td>\n",
       "      <td>0.0</td>\n",
       "      <td>1.0</td>\n",
       "      <td>24.70</td>\n",
       "      <td>2.5</td>\n",
       "      <td>0.00</td>\n",
       "    </tr>\n",
       "    <tr>\n",
       "      <th>4</th>\n",
       "      <td>2.0</td>\n",
       "      <td>2023-03-01 00:08:04</td>\n",
       "      <td>2023-03-01 00:11:06</td>\n",
       "      <td>1.0</td>\n",
       "      <td>1.23</td>\n",
       "      <td>1.0</td>\n",
       "      <td>N</td>\n",
       "      <td>79.0</td>\n",
       "      <td>137.0</td>\n",
       "      <td>1.0</td>\n",
       "      <td>7.20</td>\n",
       "      <td>1.0</td>\n",
       "      <td>0.5</td>\n",
       "      <td>2.44</td>\n",
       "      <td>0.0</td>\n",
       "      <td>1.0</td>\n",
       "      <td>14.64</td>\n",
       "      <td>2.5</td>\n",
       "      <td>0.00</td>\n",
       "    </tr>\n",
       "    <tr>\n",
       "      <th>...</th>\n",
       "      <td>...</td>\n",
       "      <td>...</td>\n",
       "      <td>...</td>\n",
       "      <td>...</td>\n",
       "      <td>...</td>\n",
       "      <td>...</td>\n",
       "      <td>...</td>\n",
       "      <td>...</td>\n",
       "      <td>...</td>\n",
       "      <td>...</td>\n",
       "      <td>...</td>\n",
       "      <td>...</td>\n",
       "      <td>...</td>\n",
       "      <td>...</td>\n",
       "      <td>...</td>\n",
       "      <td>...</td>\n",
       "      <td>...</td>\n",
       "      <td>...</td>\n",
       "      <td>...</td>\n",
       "    </tr>\n",
       "    <tr>\n",
       "      <th>3403761</th>\n",
       "      <td>2.0</td>\n",
       "      <td>2023-03-31 23:24:25</td>\n",
       "      <td>2023-03-31 23:40:54</td>\n",
       "      <td>NaN</td>\n",
       "      <td>3.16</td>\n",
       "      <td>NaN</td>\n",
       "      <td>None</td>\n",
       "      <td>163.0</td>\n",
       "      <td>75.0</td>\n",
       "      <td>0.0</td>\n",
       "      <td>12.13</td>\n",
       "      <td>0.0</td>\n",
       "      <td>0.5</td>\n",
       "      <td>4.23</td>\n",
       "      <td>0.0</td>\n",
       "      <td>1.0</td>\n",
       "      <td>20.36</td>\n",
       "      <td>NaN</td>\n",
       "      <td>NaN</td>\n",
       "    </tr>\n",
       "    <tr>\n",
       "      <th>3403762</th>\n",
       "      <td>2.0</td>\n",
       "      <td>2023-03-31 23:24:50</td>\n",
       "      <td>2023-04-01 00:04:12</td>\n",
       "      <td>NaN</td>\n",
       "      <td>6.89</td>\n",
       "      <td>NaN</td>\n",
       "      <td>None</td>\n",
       "      <td>125.0</td>\n",
       "      <td>198.0</td>\n",
       "      <td>0.0</td>\n",
       "      <td>40.92</td>\n",
       "      <td>0.0</td>\n",
       "      <td>0.5</td>\n",
       "      <td>8.98</td>\n",
       "      <td>0.0</td>\n",
       "      <td>1.0</td>\n",
       "      <td>53.90</td>\n",
       "      <td>NaN</td>\n",
       "      <td>NaN</td>\n",
       "    </tr>\n",
       "    <tr>\n",
       "      <th>3403763</th>\n",
       "      <td>2.0</td>\n",
       "      <td>2023-03-31 23:26:31</td>\n",
       "      <td>2023-03-31 23:49:39</td>\n",
       "      <td>NaN</td>\n",
       "      <td>4.01</td>\n",
       "      <td>NaN</td>\n",
       "      <td>None</td>\n",
       "      <td>50.0</td>\n",
       "      <td>224.0</td>\n",
       "      <td>0.0</td>\n",
       "      <td>24.02</td>\n",
       "      <td>0.0</td>\n",
       "      <td>0.5</td>\n",
       "      <td>0.00</td>\n",
       "      <td>0.0</td>\n",
       "      <td>1.0</td>\n",
       "      <td>28.02</td>\n",
       "      <td>NaN</td>\n",
       "      <td>NaN</td>\n",
       "    </tr>\n",
       "    <tr>\n",
       "      <th>3403764</th>\n",
       "      <td>2.0</td>\n",
       "      <td>2023-03-31 23:07:51</td>\n",
       "      <td>2023-03-31 23:15:56</td>\n",
       "      <td>NaN</td>\n",
       "      <td>1.31</td>\n",
       "      <td>NaN</td>\n",
       "      <td>None</td>\n",
       "      <td>113.0</td>\n",
       "      <td>158.0</td>\n",
       "      <td>0.0</td>\n",
       "      <td>8.51</td>\n",
       "      <td>0.0</td>\n",
       "      <td>0.5</td>\n",
       "      <td>3.50</td>\n",
       "      <td>0.0</td>\n",
       "      <td>1.0</td>\n",
       "      <td>16.01</td>\n",
       "      <td>NaN</td>\n",
       "      <td>NaN</td>\n",
       "    </tr>\n",
       "    <tr>\n",
       "      <th>3403765</th>\n",
       "      <td>2.0</td>\n",
       "      <td>2023-03-31 23:26:12</td>\n",
       "      <td>2023-03-31 23:31:47</td>\n",
       "      <td>NaN</td>\n",
       "      <td>0.88</td>\n",
       "      <td>NaN</td>\n",
       "      <td>None</td>\n",
       "      <td>41.0</td>\n",
       "      <td>166.0</td>\n",
       "      <td>0.0</td>\n",
       "      <td>13.51</td>\n",
       "      <td>0.0</td>\n",
       "      <td>0.5</td>\n",
       "      <td>2.25</td>\n",
       "      <td>0.0</td>\n",
       "      <td>1.0</td>\n",
       "      <td>17.26</td>\n",
       "      <td>NaN</td>\n",
       "      <td>NaN</td>\n",
       "    </tr>\n",
       "  </tbody>\n",
       "</table>\n",
       "<p>3403766 rows × 19 columns</p>\n",
       "</div>"
      ],
      "text/plain": [
       "         VendorID tpep_pickup_datetime tpep_dropoff_datetime  passenger_count   \n",
       "0             2.0  2023-03-01 00:06:43   2023-03-01 00:16:43              1.0  \\\n",
       "1             2.0  2023-03-01 00:08:25   2023-03-01 00:39:30              2.0   \n",
       "2             1.0  2023-03-01 00:15:04   2023-03-01 00:29:26              0.0   \n",
       "3             1.0  2023-03-01 00:49:37   2023-03-01 01:01:05              1.0   \n",
       "4             2.0  2023-03-01 00:08:04   2023-03-01 00:11:06              1.0   \n",
       "...           ...                  ...                   ...              ...   \n",
       "3403761       2.0  2023-03-31 23:24:25   2023-03-31 23:40:54              NaN   \n",
       "3403762       2.0  2023-03-31 23:24:50   2023-04-01 00:04:12              NaN   \n",
       "3403763       2.0  2023-03-31 23:26:31   2023-03-31 23:49:39              NaN   \n",
       "3403764       2.0  2023-03-31 23:07:51   2023-03-31 23:15:56              NaN   \n",
       "3403765       2.0  2023-03-31 23:26:12   2023-03-31 23:31:47              NaN   \n",
       "\n",
       "         trip_distance  RatecodeID store_and_fwd_flag  PULocationID   \n",
       "0                 0.00         1.0                  N         238.0  \\\n",
       "1                12.40         1.0                  N         138.0   \n",
       "2                 3.30         1.0                  N         140.0   \n",
       "3                 2.90         1.0                  N         140.0   \n",
       "4                 1.23         1.0                  N          79.0   \n",
       "...                ...         ...                ...           ...   \n",
       "3403761           3.16         NaN               None         163.0   \n",
       "3403762           6.89         NaN               None         125.0   \n",
       "3403763           4.01         NaN               None          50.0   \n",
       "3403764           1.31         NaN               None         113.0   \n",
       "3403765           0.88         NaN               None          41.0   \n",
       "\n",
       "         DOLocationID  payment_type  fare_amount  extra  mta_tax  tip_amount   \n",
       "0                42.0           2.0         8.60    1.0      0.5        0.00  \\\n",
       "1               231.0           1.0        52.70    6.0      0.5       12.54   \n",
       "2               186.0           1.0        18.40    3.5      0.5        4.65   \n",
       "3                43.0           1.0        15.60    3.5      0.5        4.10   \n",
       "4               137.0           1.0         7.20    1.0      0.5        2.44   \n",
       "...               ...           ...          ...    ...      ...         ...   \n",
       "3403761          75.0           0.0        12.13    0.0      0.5        4.23   \n",
       "3403762         198.0           0.0        40.92    0.0      0.5        8.98   \n",
       "3403763         224.0           0.0        24.02    0.0      0.5        0.00   \n",
       "3403764         158.0           0.0         8.51    0.0      0.5        3.50   \n",
       "3403765         166.0           0.0        13.51    0.0      0.5        2.25   \n",
       "\n",
       "         tolls_amount  improvement_surcharge  total_amount   \n",
       "0                 0.0                    1.0         11.10  \\\n",
       "1                 0.0                    1.0         76.49   \n",
       "2                 0.0                    1.0         28.05   \n",
       "3                 0.0                    1.0         24.70   \n",
       "4                 0.0                    1.0         14.64   \n",
       "...               ...                    ...           ...   \n",
       "3403761           0.0                    1.0         20.36   \n",
       "3403762           0.0                    1.0         53.90   \n",
       "3403763           0.0                    1.0         28.02   \n",
       "3403764           0.0                    1.0         16.01   \n",
       "3403765           0.0                    1.0         17.26   \n",
       "\n",
       "         congestion_surcharge  Airport_fee  \n",
       "0                         0.0         0.00  \n",
       "1                         2.5         1.25  \n",
       "2                         2.5         0.00  \n",
       "3                         2.5         0.00  \n",
       "4                         2.5         0.00  \n",
       "...                       ...          ...  \n",
       "3403761                   NaN          NaN  \n",
       "3403762                   NaN          NaN  \n",
       "3403763                   NaN          NaN  \n",
       "3403764                   NaN          NaN  \n",
       "3403765                   NaN          NaN  \n",
       "\n",
       "[3403766 rows x 19 columns]"
      ]
     },
     "execution_count": 102,
     "metadata": {},
     "output_type": "execute_result"
    }
   ],
   "source": [
    "pd.read_parquet(\"yellow_tripdata_2023-03.parquet\")"
   ]
  },
  {
   "cell_type": "markdown",
   "metadata": {
    "id": "ruzOMDEsz2pY"
   },
   "source": [
    "**Задание 1.12.** Считайте данные из файла Parquet. Использовать метод pandas read_parquet."
   ]
  },
  {
   "cell_type": "code",
   "execution_count": null,
   "metadata": {
    "id": "oa1kHoKBzssL"
   },
   "outputs": [
    {
     "data": {
      "text/html": [
       "<div>\n",
       "<style scoped>\n",
       "    .dataframe tbody tr th:only-of-type {\n",
       "        vertical-align: middle;\n",
       "    }\n",
       "\n",
       "    .dataframe tbody tr th {\n",
       "        vertical-align: top;\n",
       "    }\n",
       "\n",
       "    .dataframe thead th {\n",
       "        text-align: right;\n",
       "    }\n",
       "</style>\n",
       "<table border=\"1\" class=\"dataframe\">\n",
       "  <thead>\n",
       "    <tr style=\"text-align: right;\">\n",
       "      <th></th>\n",
       "      <th>VendorID</th>\n",
       "      <th>tpep_pickup_datetime</th>\n",
       "      <th>tpep_dropoff_datetime</th>\n",
       "      <th>passenger_count</th>\n",
       "      <th>trip_distance</th>\n",
       "      <th>RatecodeID</th>\n",
       "      <th>store_and_fwd_flag</th>\n",
       "      <th>PULocationID</th>\n",
       "      <th>DOLocationID</th>\n",
       "      <th>payment_type</th>\n",
       "      <th>fare_amount</th>\n",
       "      <th>extra</th>\n",
       "      <th>mta_tax</th>\n",
       "      <th>tip_amount</th>\n",
       "      <th>tolls_amount</th>\n",
       "      <th>improvement_surcharge</th>\n",
       "      <th>total_amount</th>\n",
       "      <th>congestion_surcharge</th>\n",
       "      <th>Airport_fee</th>\n",
       "    </tr>\n",
       "  </thead>\n",
       "  <tbody>\n",
       "    <tr>\n",
       "      <th>0</th>\n",
       "      <td>2.0</td>\n",
       "      <td>2023-03-01 00:06:43</td>\n",
       "      <td>2023-03-01 00:16:43</td>\n",
       "      <td>1.0</td>\n",
       "      <td>0.00</td>\n",
       "      <td>1.0</td>\n",
       "      <td>N</td>\n",
       "      <td>238.0</td>\n",
       "      <td>42.0</td>\n",
       "      <td>2.0</td>\n",
       "      <td>8.6</td>\n",
       "      <td>1.0</td>\n",
       "      <td>0.5</td>\n",
       "      <td>0.00</td>\n",
       "      <td>0.0</td>\n",
       "      <td>1.0</td>\n",
       "      <td>11.10</td>\n",
       "      <td>0.0</td>\n",
       "      <td>0.00</td>\n",
       "    </tr>\n",
       "    <tr>\n",
       "      <th>1</th>\n",
       "      <td>2.0</td>\n",
       "      <td>2023-03-01 00:08:25</td>\n",
       "      <td>2023-03-01 00:39:30</td>\n",
       "      <td>2.0</td>\n",
       "      <td>12.40</td>\n",
       "      <td>1.0</td>\n",
       "      <td>N</td>\n",
       "      <td>138.0</td>\n",
       "      <td>231.0</td>\n",
       "      <td>1.0</td>\n",
       "      <td>52.7</td>\n",
       "      <td>6.0</td>\n",
       "      <td>0.5</td>\n",
       "      <td>12.54</td>\n",
       "      <td>0.0</td>\n",
       "      <td>1.0</td>\n",
       "      <td>76.49</td>\n",
       "      <td>2.5</td>\n",
       "      <td>1.25</td>\n",
       "    </tr>\n",
       "    <tr>\n",
       "      <th>2</th>\n",
       "      <td>1.0</td>\n",
       "      <td>2023-03-01 00:15:04</td>\n",
       "      <td>2023-03-01 00:29:26</td>\n",
       "      <td>0.0</td>\n",
       "      <td>3.30</td>\n",
       "      <td>1.0</td>\n",
       "      <td>N</td>\n",
       "      <td>140.0</td>\n",
       "      <td>186.0</td>\n",
       "      <td>1.0</td>\n",
       "      <td>18.4</td>\n",
       "      <td>3.5</td>\n",
       "      <td>0.5</td>\n",
       "      <td>4.65</td>\n",
       "      <td>0.0</td>\n",
       "      <td>1.0</td>\n",
       "      <td>28.05</td>\n",
       "      <td>2.5</td>\n",
       "      <td>0.00</td>\n",
       "    </tr>\n",
       "    <tr>\n",
       "      <th>3</th>\n",
       "      <td>1.0</td>\n",
       "      <td>2023-03-01 00:49:37</td>\n",
       "      <td>2023-03-01 01:01:05</td>\n",
       "      <td>1.0</td>\n",
       "      <td>2.90</td>\n",
       "      <td>1.0</td>\n",
       "      <td>N</td>\n",
       "      <td>140.0</td>\n",
       "      <td>43.0</td>\n",
       "      <td>1.0</td>\n",
       "      <td>15.6</td>\n",
       "      <td>3.5</td>\n",
       "      <td>0.5</td>\n",
       "      <td>4.10</td>\n",
       "      <td>0.0</td>\n",
       "      <td>1.0</td>\n",
       "      <td>24.70</td>\n",
       "      <td>2.5</td>\n",
       "      <td>0.00</td>\n",
       "    </tr>\n",
       "    <tr>\n",
       "      <th>4</th>\n",
       "      <td>2.0</td>\n",
       "      <td>2023-03-01 00:08:04</td>\n",
       "      <td>2023-03-01 00:11:06</td>\n",
       "      <td>1.0</td>\n",
       "      <td>1.23</td>\n",
       "      <td>1.0</td>\n",
       "      <td>N</td>\n",
       "      <td>79.0</td>\n",
       "      <td>137.0</td>\n",
       "      <td>1.0</td>\n",
       "      <td>7.2</td>\n",
       "      <td>1.0</td>\n",
       "      <td>0.5</td>\n",
       "      <td>2.44</td>\n",
       "      <td>0.0</td>\n",
       "      <td>1.0</td>\n",
       "      <td>14.64</td>\n",
       "      <td>2.5</td>\n",
       "      <td>0.00</td>\n",
       "    </tr>\n",
       "  </tbody>\n",
       "</table>\n",
       "</div>"
      ],
      "text/plain": [
       "   VendorID tpep_pickup_datetime tpep_dropoff_datetime  passenger_count   \n",
       "0       2.0  2023-03-01 00:06:43   2023-03-01 00:16:43              1.0  \\\n",
       "1       2.0  2023-03-01 00:08:25   2023-03-01 00:39:30              2.0   \n",
       "2       1.0  2023-03-01 00:15:04   2023-03-01 00:29:26              0.0   \n",
       "3       1.0  2023-03-01 00:49:37   2023-03-01 01:01:05              1.0   \n",
       "4       2.0  2023-03-01 00:08:04   2023-03-01 00:11:06              1.0   \n",
       "\n",
       "   trip_distance  RatecodeID store_and_fwd_flag  PULocationID  DOLocationID   \n",
       "0           0.00         1.0                  N         238.0          42.0  \\\n",
       "1          12.40         1.0                  N         138.0         231.0   \n",
       "2           3.30         1.0                  N         140.0         186.0   \n",
       "3           2.90         1.0                  N         140.0          43.0   \n",
       "4           1.23         1.0                  N          79.0         137.0   \n",
       "\n",
       "   payment_type  fare_amount  extra  mta_tax  tip_amount  tolls_amount   \n",
       "0           2.0          8.6    1.0      0.5        0.00           0.0  \\\n",
       "1           1.0         52.7    6.0      0.5       12.54           0.0   \n",
       "2           1.0         18.4    3.5      0.5        4.65           0.0   \n",
       "3           1.0         15.6    3.5      0.5        4.10           0.0   \n",
       "4           1.0          7.2    1.0      0.5        2.44           0.0   \n",
       "\n",
       "   improvement_surcharge  total_amount  congestion_surcharge  Airport_fee  \n",
       "0                    1.0         11.10                   0.0         0.00  \n",
       "1                    1.0         76.49                   2.5         1.25  \n",
       "2                    1.0         28.05                   2.5         0.00  \n",
       "3                    1.0         24.70                   2.5         0.00  \n",
       "4                    1.0         14.64                   2.5         0.00  "
      ]
     },
     "execution_count": 105,
     "metadata": {},
     "output_type": "execute_result"
    }
   ],
   "source": [
    "df_parquet.head()"
   ]
  }
 ],
 "metadata": {
  "colab": {
   "provenance": []
  },
  "kernelspec": {
   "display_name": "Python 3",
   "language": "python",
   "name": "python3"
  },
  "language_info": {
   "codemirror_mode": {
    "name": "ipython",
    "version": 3
   },
   "file_extension": ".py",
   "mimetype": "text/x-python",
   "name": "python",
   "nbconvert_exporter": "python",
   "pygments_lexer": "ipython3",
   "version": "3.9.6"
  }
 },
 "nbformat": 4,
 "nbformat_minor": 1
}
